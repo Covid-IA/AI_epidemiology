{
 "cells": [
  {
   "cell_type": "markdown",
   "metadata": {},
   "source": [
    "## Population 2016 (IRIS to DEPARTEMENT) - France\n",
    "infra-communales"
   ]
  },
  {
   "cell_type": "code",
   "execution_count": 1,
   "metadata": {},
   "outputs": [],
   "source": [
    "import pandas as pd\n",
    "import numpy as np"
   ]
  },
  {
   "cell_type": "markdown",
   "metadata": {},
   "source": [
    "### Si besoin de comprendre les variables (nom des colonnes)."
   ]
  },
  {
   "cell_type": "code",
   "execution_count": 2,
   "metadata": {
    "scrolled": true
   },
   "outputs": [],
   "source": [
    "# ici sont les variables et leurs explications.\n",
    "# varpopIR = pd.read_excel('IRIS_population/variable_struct-pop-2016-cIA.xlsx')\n",
    "# varpopIR"
   ]
  },
  {
   "cell_type": "markdown",
   "metadata": {},
   "source": [
    "### Récupération des données France (hs Mayotte) et Collect. Outre-Mer"
   ]
  },
  {
   "cell_type": "code",
   "execution_count": 3,
   "metadata": {},
   "outputs": [],
   "source": [
    "# population France hors Mayotte\n",
    "franceDEPT = pd.read_excel('IRIS_population/base-ic-evol-struct-pop-2016-cIA.xls')\n",
    "\n",
    "# population collectivité d'outre-mer (St-Pierre-Miquelon, St-Martin, St-Barthélemy)\n",
    "popcomIR = pd.read_excel('IRIS_population/base-ic-evol-struct-pop-2016-com-cIA.xls')"
   ]
  },
  {
   "cell_type": "code",
   "execution_count": 4,
   "metadata": {},
   "outputs": [
    {
     "name": "stdout",
     "output_type": "stream",
     "text": [
      "(49637, 84) (16, 80)\n"
     ]
    }
   ],
   "source": [
    "print(franceDEPT.shape, popcomIR.shape)"
   ]
  },
  {
   "cell_type": "markdown",
   "metadata": {},
   "source": [
    "### Volume de la population"
   ]
  },
  {
   "cell_type": "code",
   "execution_count": 5,
   "metadata": {},
   "outputs": [
    {
     "name": "stdout",
     "output_type": "stream",
     "text": [
      "\n",
      "Total Population hors Mayotte et CO-M: 66,361,587.27 \n",
      "Total Hommes hors Mayotte et CO-M : 32,112,732.25 \n",
      "Total Femmes hors Mayotte et CO-M : 34,248,855.02 \n",
      "\n",
      "Population par IRIS\n",
      "IRIS Type Z 26,955,406.00\n",
      "IRIS Type H 38,719,713.24\n",
      "IRIS Type A 443,482.46\n",
      "IRIS Type D 242,985.57\n"
     ]
    }
   ],
   "source": [
    "print(\"\\nTotal Population hors Mayotte et CO-M:\", \"{:,.2f}\".format(franceDEPT['P16_POP'].sum()),\n",
    "      \"\\nTotal Hommes hors Mayotte et CO-M :\", \"{:,.2f}\".format(franceDEPT['P16_POPH'].sum()),\n",
    "      \"\\nTotal Femmes hors Mayotte et CO-M :\", \"{:,.2f}\".format(franceDEPT['P16_POPF'].sum()),\n",
    "      \"\\n\\nPopulation par IRIS\")\n",
    "\n",
    "for i in franceDEPT['TYP_IRIS'].unique():\n",
    "    print(\"IRIS Type\",i, \"{:,.2f}\".format(franceDEPT.loc[franceDEPT['TYP_IRIS'] == i]['P16_POP'].sum()))"
   ]
  },
  {
   "cell_type": "code",
   "execution_count": 6,
   "metadata": {},
   "outputs": [],
   "source": [
    "popmetIR = franceDEPT.copy()"
   ]
  },
  {
   "cell_type": "code",
   "execution_count": 7,
   "metadata": {},
   "outputs": [
    {
     "data": {
      "text/plain": [
       "(49637, 80)"
      ]
     },
     "execution_count": 7,
     "metadata": {},
     "output_type": "execute_result"
    }
   ],
   "source": [
    "# drop les colonnes de France qui n'apparaissent pas dans le fichier de la Collect. OM.\n",
    "popmetIR = popmetIR.drop(columns=['REG', 'UU2010', 'TYP_IRIS', 'MODIF_IRIS'], axis=1)\n",
    "popmetIR.shape"
   ]
  },
  {
   "cell_type": "markdown",
   "metadata": {},
   "source": [
    "#### Merge du fichier France à celui des Collectivités d'Outre-Mer"
   ]
  },
  {
   "cell_type": "code",
   "execution_count": 8,
   "metadata": {},
   "outputs": [
    {
     "name": "stdout",
     "output_type": "stream",
     "text": [
      "popglobIR shape: (49653, 81)\n"
     ]
    }
   ],
   "source": [
    "import warnings\n",
    "warnings.filterwarnings('ignore')\n",
    "\n",
    "\"\"\"Ajout d'une colonne 'source' qui permet de faire la différence entre fichier France\n",
    "   et Collectivités d'Outre-Mer.\"\"\"\n",
    "\n",
    "popmetIR['source'] = \"france\"\n",
    "popcomIR['source'] = \"coll_OM\"\n",
    "\n",
    "popglob = [popmetIR, popcomIR]\n",
    "popglobIR = pd.concat(popglob)\n",
    "print(\"popglobIR shape:\", popglobIR.shape)"
   ]
  },
  {
   "cell_type": "code",
   "execution_count": 9,
   "metadata": {},
   "outputs": [
    {
     "data": {
      "text/html": [
       "<div>\n",
       "<style scoped>\n",
       "    .dataframe tbody tr th:only-of-type {\n",
       "        vertical-align: middle;\n",
       "    }\n",
       "\n",
       "    .dataframe tbody tr th {\n",
       "        vertical-align: top;\n",
       "    }\n",
       "\n",
       "    .dataframe thead th {\n",
       "        text-align: right;\n",
       "    }\n",
       "</style>\n",
       "<table border=\"1\" class=\"dataframe\">\n",
       "  <thead>\n",
       "    <tr style=\"text-align: right;\">\n",
       "      <th></th>\n",
       "      <th>IRIS</th>\n",
       "      <th>DEP</th>\n",
       "      <th>COM</th>\n",
       "      <th>LIBCOM</th>\n",
       "      <th>TRIRIS</th>\n",
       "      <th>GRD_QUART</th>\n",
       "      <th>LIBIRIS</th>\n",
       "      <th>LAB_IRIS</th>\n",
       "      <th>P16_POP</th>\n",
       "      <th>P16_POP0002</th>\n",
       "      <th>...</th>\n",
       "      <th>C16_F15P_CS5</th>\n",
       "      <th>C16_F15P_CS6</th>\n",
       "      <th>C16_F15P_CS7</th>\n",
       "      <th>C16_F15P_CS8</th>\n",
       "      <th>P16_POP_FR</th>\n",
       "      <th>P16_POP_ETR</th>\n",
       "      <th>P16_POP_IMM</th>\n",
       "      <th>P16_PMEN</th>\n",
       "      <th>P16_PHORMEN</th>\n",
       "      <th>source</th>\n",
       "    </tr>\n",
       "  </thead>\n",
       "  <tbody>\n",
       "    <tr>\n",
       "      <th>0</th>\n",
       "      <td>010010000</td>\n",
       "      <td>01</td>\n",
       "      <td>01001</td>\n",
       "      <td>L'Abergement-Clémenciat</td>\n",
       "      <td>ZZZZZZ</td>\n",
       "      <td>0100100</td>\n",
       "      <td>L'Abergement-Clémenciat (commune non irisée)</td>\n",
       "      <td>5</td>\n",
       "      <td>767.000000</td>\n",
       "      <td>29.000000</td>\n",
       "      <td>...</td>\n",
       "      <td>85.000000</td>\n",
       "      <td>30.000000</td>\n",
       "      <td>70.000000</td>\n",
       "      <td>15.000000</td>\n",
       "      <td>759.000000</td>\n",
       "      <td>8.000000</td>\n",
       "      <td>20.000000</td>\n",
       "      <td>767.000000</td>\n",
       "      <td>0.000000</td>\n",
       "      <td>france</td>\n",
       "    </tr>\n",
       "    <tr>\n",
       "      <th>1</th>\n",
       "      <td>010020000</td>\n",
       "      <td>01</td>\n",
       "      <td>01002</td>\n",
       "      <td>L'Abergement-de-Varey</td>\n",
       "      <td>ZZZZZZ</td>\n",
       "      <td>0100200</td>\n",
       "      <td>L'Abergement-de-Varey (commune non irisée)</td>\n",
       "      <td>5</td>\n",
       "      <td>243.000000</td>\n",
       "      <td>14.000000</td>\n",
       "      <td>...</td>\n",
       "      <td>25.000000</td>\n",
       "      <td>0.000000</td>\n",
       "      <td>20.000000</td>\n",
       "      <td>0.000000</td>\n",
       "      <td>241.000000</td>\n",
       "      <td>2.000000</td>\n",
       "      <td>3.000000</td>\n",
       "      <td>243.000000</td>\n",
       "      <td>0.000000</td>\n",
       "      <td>france</td>\n",
       "    </tr>\n",
       "    <tr>\n",
       "      <th>2</th>\n",
       "      <td>010040101</td>\n",
       "      <td>01</td>\n",
       "      <td>01004</td>\n",
       "      <td>Ambérieu-en-Bugey</td>\n",
       "      <td>ZZZZZZ</td>\n",
       "      <td>0100401</td>\n",
       "      <td>Les Perouses-Triangle d'Activité</td>\n",
       "      <td>1</td>\n",
       "      <td>1893.112206</td>\n",
       "      <td>102.492841</td>\n",
       "      <td>...</td>\n",
       "      <td>158.028018</td>\n",
       "      <td>59.452099</td>\n",
       "      <td>216.381754</td>\n",
       "      <td>195.032628</td>\n",
       "      <td>1614.595359</td>\n",
       "      <td>278.516847</td>\n",
       "      <td>308.098676</td>\n",
       "      <td>1557.106066</td>\n",
       "      <td>336.006141</td>\n",
       "      <td>france</td>\n",
       "    </tr>\n",
       "    <tr>\n",
       "      <th>3</th>\n",
       "      <td>010040102</td>\n",
       "      <td>01</td>\n",
       "      <td>01004</td>\n",
       "      <td>Ambérieu-en-Bugey</td>\n",
       "      <td>ZZZZZZ</td>\n",
       "      <td>0100401</td>\n",
       "      <td>Longeray-Gare</td>\n",
       "      <td>1</td>\n",
       "      <td>3546.210164</td>\n",
       "      <td>176.709046</td>\n",
       "      <td>...</td>\n",
       "      <td>354.962018</td>\n",
       "      <td>158.716105</td>\n",
       "      <td>351.399678</td>\n",
       "      <td>346.514489</td>\n",
       "      <td>3115.756603</td>\n",
       "      <td>430.453561</td>\n",
       "      <td>515.488156</td>\n",
       "      <td>3546.210164</td>\n",
       "      <td>0.000000</td>\n",
       "      <td>france</td>\n",
       "    </tr>\n",
       "    <tr>\n",
       "      <th>4</th>\n",
       "      <td>010040201</td>\n",
       "      <td>01</td>\n",
       "      <td>01004</td>\n",
       "      <td>Ambérieu-en-Bugey</td>\n",
       "      <td>ZZZZZZ</td>\n",
       "      <td>0100402</td>\n",
       "      <td>Centre-St Germain-Vareilles</td>\n",
       "      <td>1</td>\n",
       "      <td>4100.003588</td>\n",
       "      <td>175.616863</td>\n",
       "      <td>...</td>\n",
       "      <td>407.311067</td>\n",
       "      <td>147.066671</td>\n",
       "      <td>529.371210</td>\n",
       "      <td>334.262710</td>\n",
       "      <td>3831.463866</td>\n",
       "      <td>268.539722</td>\n",
       "      <td>341.362897</td>\n",
       "      <td>4012.001980</td>\n",
       "      <td>88.001608</td>\n",
       "      <td>france</td>\n",
       "    </tr>\n",
       "  </tbody>\n",
       "</table>\n",
       "<p>5 rows × 81 columns</p>\n",
       "</div>"
      ],
      "text/plain": [
       "        IRIS DEP    COM                   LIBCOM  TRIRIS GRD_QUART  \\\n",
       "0  010010000  01  01001  L'Abergement-Clémenciat  ZZZZZZ   0100100   \n",
       "1  010020000  01  01002    L'Abergement-de-Varey  ZZZZZZ   0100200   \n",
       "2  010040101  01  01004        Ambérieu-en-Bugey  ZZZZZZ   0100401   \n",
       "3  010040102  01  01004        Ambérieu-en-Bugey  ZZZZZZ   0100401   \n",
       "4  010040201  01  01004        Ambérieu-en-Bugey  ZZZZZZ   0100402   \n",
       "\n",
       "                                        LIBIRIS LAB_IRIS      P16_POP  \\\n",
       "0  L'Abergement-Clémenciat (commune non irisée)        5   767.000000   \n",
       "1    L'Abergement-de-Varey (commune non irisée)        5   243.000000   \n",
       "2              Les Perouses-Triangle d'Activité        1  1893.112206   \n",
       "3                                 Longeray-Gare        1  3546.210164   \n",
       "4                   Centre-St Germain-Vareilles        1  4100.003588   \n",
       "\n",
       "   P16_POP0002  ...  C16_F15P_CS5  C16_F15P_CS6  C16_F15P_CS7  C16_F15P_CS8  \\\n",
       "0    29.000000  ...     85.000000     30.000000     70.000000     15.000000   \n",
       "1    14.000000  ...     25.000000      0.000000     20.000000      0.000000   \n",
       "2   102.492841  ...    158.028018     59.452099    216.381754    195.032628   \n",
       "3   176.709046  ...    354.962018    158.716105    351.399678    346.514489   \n",
       "4   175.616863  ...    407.311067    147.066671    529.371210    334.262710   \n",
       "\n",
       "    P16_POP_FR  P16_POP_ETR  P16_POP_IMM     P16_PMEN  P16_PHORMEN  source  \n",
       "0   759.000000     8.000000    20.000000   767.000000     0.000000  france  \n",
       "1   241.000000     2.000000     3.000000   243.000000     0.000000  france  \n",
       "2  1614.595359   278.516847   308.098676  1557.106066   336.006141  france  \n",
       "3  3115.756603   430.453561   515.488156  3546.210164     0.000000  france  \n",
       "4  3831.463866   268.539722   341.362897  4012.001980    88.001608  france  \n",
       "\n",
       "[5 rows x 81 columns]"
      ]
     },
     "execution_count": 9,
     "metadata": {},
     "output_type": "execute_result"
    }
   ],
   "source": [
    "popglobIR.head()"
   ]
  },
  {
   "cell_type": "code",
   "execution_count": 10,
   "metadata": {},
   "outputs": [
    {
     "data": {
      "text/plain": [
       "array([<class 'str'>, <class 'int'>], dtype=object)"
      ]
     },
     "execution_count": 10,
     "metadata": {},
     "output_type": "execute_result"
    }
   ],
   "source": [
    "# verification de types de données IRIS après merge\n",
    "popglobIR['IRIS'].apply(type).unique()"
   ]
  },
  {
   "cell_type": "markdown",
   "metadata": {},
   "source": [
    "Les IRIS de France sont du type 'str' tandis que celui des Collectivités OM sont du type 'int' ou 'float'. On homogénéise le tout en 'str'."
   ]
  },
  {
   "cell_type": "code",
   "execution_count": 11,
   "metadata": {},
   "outputs": [],
   "source": [
    "# conversion des IRIS 'int' en 'str'\n",
    "popglobIR['IRIS'] = popglobIR['IRIS'].astype(str)"
   ]
  },
  {
   "cell_type": "code",
   "execution_count": 12,
   "metadata": {},
   "outputs": [
    {
     "data": {
      "text/plain": [
       "array([<class 'str'>], dtype=object)"
      ]
     },
     "execution_count": 12,
     "metadata": {},
     "output_type": "execute_result"
    }
   ],
   "source": [
    "# nouvelle verification de types de données IRIS après merge\n",
    "popglobIR['IRIS'].apply(type).unique()"
   ]
  },
  {
   "cell_type": "markdown",
   "metadata": {},
   "source": [
    "#### All good!\n",
    "On va procéder à un export afin de le conserver."
   ]
  },
  {
   "cell_type": "code",
   "execution_count": 13,
   "metadata": {},
   "outputs": [],
   "source": [
    "# popglobIR.to_csv('IRIS_population/IRIS_population_Fr_CollOM.csv', index=False)"
   ]
  },
  {
   "cell_type": "code",
   "execution_count": 14,
   "metadata": {},
   "outputs": [
    {
     "name": "stdout",
     "output_type": "stream",
     "text": [
      "\n",
      "Total Population France (hors Mayotte) avec CO-M: 66,413,134.27 \n",
      "Total Hommes France (hors Mayotte) avec CO-M : 32,137,832.81 \n",
      "Total Femmes France (hors Mayotte) avec CO-M : 34,275,301.47 \n",
      "\n",
      "Population par IRIS\n"
     ]
    }
   ],
   "source": [
    "print(\"\\nTotal Population France (hors Mayotte) avec CO-M:\", \"{:,.2f}\".format(popglobIR['P16_POP'].sum()),\n",
    "      \"\\nTotal Hommes France (hors Mayotte) avec CO-M :\", \"{:,.2f}\".format(popglobIR['P16_POPH'].sum()),\n",
    "      \"\\nTotal Femmes France (hors Mayotte) avec CO-M :\", \"{:,.2f}\".format(popglobIR['P16_POPF'].sum()),\n",
    "      \"\\n\\nPopulation par IRIS\")"
   ]
  },
  {
   "cell_type": "markdown",
   "metadata": {},
   "source": [
    "# Objectif Population >> DEPT POP ÂGE SEXE\n",
    "**GEO** : DEPT<br>\n",
    "**Pop âge**: 0-14 / 15-29 / 30-44 / 45-59 / 60-74 / 75 +<br>\n",
    "**Pop homme âge**: 0-14 / 15-29 / 30-44 / 45-59 / 60-74 / 75 +<br>\n",
    "**Pop femme âge**: 0-14 / 15-29 / 30-44 / 45-59 / 60-74 / 75 +<br>"
   ]
  },
  {
   "cell_type": "code",
   "execution_count": 15,
   "metadata": {},
   "outputs": [
    {
     "data": {
      "text/html": [
       "<div>\n",
       "<style scoped>\n",
       "    .dataframe tbody tr th:only-of-type {\n",
       "        vertical-align: middle;\n",
       "    }\n",
       "\n",
       "    .dataframe tbody tr th {\n",
       "        vertical-align: top;\n",
       "    }\n",
       "\n",
       "    .dataframe thead th {\n",
       "        text-align: right;\n",
       "    }\n",
       "</style>\n",
       "<table border=\"1\" class=\"dataframe\">\n",
       "  <thead>\n",
       "    <tr style=\"text-align: right;\">\n",
       "      <th></th>\n",
       "      <th>IRIS</th>\n",
       "      <th>DEP</th>\n",
       "      <th>COM</th>\n",
       "      <th>LIBCOM</th>\n",
       "      <th>TRIRIS</th>\n",
       "      <th>GRD_QUART</th>\n",
       "      <th>LIBIRIS</th>\n",
       "      <th>LAB_IRIS</th>\n",
       "      <th>P16_POP</th>\n",
       "      <th>P16_POP0002</th>\n",
       "      <th>...</th>\n",
       "      <th>C16_F15P_CS5</th>\n",
       "      <th>C16_F15P_CS6</th>\n",
       "      <th>C16_F15P_CS7</th>\n",
       "      <th>C16_F15P_CS8</th>\n",
       "      <th>P16_POP_FR</th>\n",
       "      <th>P16_POP_ETR</th>\n",
       "      <th>P16_POP_IMM</th>\n",
       "      <th>P16_PMEN</th>\n",
       "      <th>P16_PHORMEN</th>\n",
       "      <th>source</th>\n",
       "    </tr>\n",
       "  </thead>\n",
       "  <tbody>\n",
       "    <tr>\n",
       "      <th>0</th>\n",
       "      <td>010010000</td>\n",
       "      <td>01</td>\n",
       "      <td>01001</td>\n",
       "      <td>L'Abergement-Clémenciat</td>\n",
       "      <td>ZZZZZZ</td>\n",
       "      <td>0100100</td>\n",
       "      <td>L'Abergement-Clémenciat (commune non irisée)</td>\n",
       "      <td>5</td>\n",
       "      <td>767.000000</td>\n",
       "      <td>29.000000</td>\n",
       "      <td>...</td>\n",
       "      <td>85.000000</td>\n",
       "      <td>30.000000</td>\n",
       "      <td>70.000000</td>\n",
       "      <td>15.000000</td>\n",
       "      <td>759.000000</td>\n",
       "      <td>8.000000</td>\n",
       "      <td>20.000000</td>\n",
       "      <td>767.000000</td>\n",
       "      <td>0.000000</td>\n",
       "      <td>france</td>\n",
       "    </tr>\n",
       "    <tr>\n",
       "      <th>1</th>\n",
       "      <td>010020000</td>\n",
       "      <td>01</td>\n",
       "      <td>01002</td>\n",
       "      <td>L'Abergement-de-Varey</td>\n",
       "      <td>ZZZZZZ</td>\n",
       "      <td>0100200</td>\n",
       "      <td>L'Abergement-de-Varey (commune non irisée)</td>\n",
       "      <td>5</td>\n",
       "      <td>243.000000</td>\n",
       "      <td>14.000000</td>\n",
       "      <td>...</td>\n",
       "      <td>25.000000</td>\n",
       "      <td>0.000000</td>\n",
       "      <td>20.000000</td>\n",
       "      <td>0.000000</td>\n",
       "      <td>241.000000</td>\n",
       "      <td>2.000000</td>\n",
       "      <td>3.000000</td>\n",
       "      <td>243.000000</td>\n",
       "      <td>0.000000</td>\n",
       "      <td>france</td>\n",
       "    </tr>\n",
       "    <tr>\n",
       "      <th>2</th>\n",
       "      <td>010040101</td>\n",
       "      <td>01</td>\n",
       "      <td>01004</td>\n",
       "      <td>Ambérieu-en-Bugey</td>\n",
       "      <td>ZZZZZZ</td>\n",
       "      <td>0100401</td>\n",
       "      <td>Les Perouses-Triangle d'Activité</td>\n",
       "      <td>1</td>\n",
       "      <td>1893.112206</td>\n",
       "      <td>102.492841</td>\n",
       "      <td>...</td>\n",
       "      <td>158.028018</td>\n",
       "      <td>59.452099</td>\n",
       "      <td>216.381754</td>\n",
       "      <td>195.032628</td>\n",
       "      <td>1614.595359</td>\n",
       "      <td>278.516847</td>\n",
       "      <td>308.098676</td>\n",
       "      <td>1557.106066</td>\n",
       "      <td>336.006141</td>\n",
       "      <td>france</td>\n",
       "    </tr>\n",
       "    <tr>\n",
       "      <th>3</th>\n",
       "      <td>010040102</td>\n",
       "      <td>01</td>\n",
       "      <td>01004</td>\n",
       "      <td>Ambérieu-en-Bugey</td>\n",
       "      <td>ZZZZZZ</td>\n",
       "      <td>0100401</td>\n",
       "      <td>Longeray-Gare</td>\n",
       "      <td>1</td>\n",
       "      <td>3546.210164</td>\n",
       "      <td>176.709046</td>\n",
       "      <td>...</td>\n",
       "      <td>354.962018</td>\n",
       "      <td>158.716105</td>\n",
       "      <td>351.399678</td>\n",
       "      <td>346.514489</td>\n",
       "      <td>3115.756603</td>\n",
       "      <td>430.453561</td>\n",
       "      <td>515.488156</td>\n",
       "      <td>3546.210164</td>\n",
       "      <td>0.000000</td>\n",
       "      <td>france</td>\n",
       "    </tr>\n",
       "    <tr>\n",
       "      <th>4</th>\n",
       "      <td>010040201</td>\n",
       "      <td>01</td>\n",
       "      <td>01004</td>\n",
       "      <td>Ambérieu-en-Bugey</td>\n",
       "      <td>ZZZZZZ</td>\n",
       "      <td>0100402</td>\n",
       "      <td>Centre-St Germain-Vareilles</td>\n",
       "      <td>1</td>\n",
       "      <td>4100.003588</td>\n",
       "      <td>175.616863</td>\n",
       "      <td>...</td>\n",
       "      <td>407.311067</td>\n",
       "      <td>147.066671</td>\n",
       "      <td>529.371210</td>\n",
       "      <td>334.262710</td>\n",
       "      <td>3831.463866</td>\n",
       "      <td>268.539722</td>\n",
       "      <td>341.362897</td>\n",
       "      <td>4012.001980</td>\n",
       "      <td>88.001608</td>\n",
       "      <td>france</td>\n",
       "    </tr>\n",
       "    <tr>\n",
       "      <th>...</th>\n",
       "      <td>...</td>\n",
       "      <td>...</td>\n",
       "      <td>...</td>\n",
       "      <td>...</td>\n",
       "      <td>...</td>\n",
       "      <td>...</td>\n",
       "      <td>...</td>\n",
       "      <td>...</td>\n",
       "      <td>...</td>\n",
       "      <td>...</td>\n",
       "      <td>...</td>\n",
       "      <td>...</td>\n",
       "      <td>...</td>\n",
       "      <td>...</td>\n",
       "      <td>...</td>\n",
       "      <td>...</td>\n",
       "      <td>...</td>\n",
       "      <td>...</td>\n",
       "      <td>...</td>\n",
       "      <td>...</td>\n",
       "      <td>...</td>\n",
       "    </tr>\n",
       "    <tr>\n",
       "      <th>11</th>\n",
       "      <td>978010106</td>\n",
       "      <td>978</td>\n",
       "      <td>97801</td>\n",
       "      <td>Saint-Martin</td>\n",
       "      <td>978231</td>\n",
       "      <td>9780101</td>\n",
       "      <td>Galisbay-Agrement</td>\n",
       "      <td>1</td>\n",
       "      <td>2146.610574</td>\n",
       "      <td>91.364728</td>\n",
       "      <td>...</td>\n",
       "      <td>401.842148</td>\n",
       "      <td>79.088470</td>\n",
       "      <td>95.766908</td>\n",
       "      <td>216.315769</td>\n",
       "      <td>1233.818654</td>\n",
       "      <td>912.791920</td>\n",
       "      <td>883.577973</td>\n",
       "      <td>2146.610574</td>\n",
       "      <td>0.000000</td>\n",
       "      <td>coll_OM</td>\n",
       "    </tr>\n",
       "    <tr>\n",
       "      <th>12</th>\n",
       "      <td>978010107</td>\n",
       "      <td>978</td>\n",
       "      <td>97801</td>\n",
       "      <td>Saint-Martin</td>\n",
       "      <td>978231</td>\n",
       "      <td>9780101</td>\n",
       "      <td>C. Gate-St Louis-Rambaud-Colomb.-Pic P.</td>\n",
       "      <td>1</td>\n",
       "      <td>3517.883239</td>\n",
       "      <td>121.104624</td>\n",
       "      <td>...</td>\n",
       "      <td>419.653070</td>\n",
       "      <td>57.729779</td>\n",
       "      <td>174.204029</td>\n",
       "      <td>377.852008</td>\n",
       "      <td>2831.889309</td>\n",
       "      <td>685.993930</td>\n",
       "      <td>832.587752</td>\n",
       "      <td>3517.883239</td>\n",
       "      <td>0.000000</td>\n",
       "      <td>coll_OM</td>\n",
       "    </tr>\n",
       "    <tr>\n",
       "      <th>13</th>\n",
       "      <td>978010108</td>\n",
       "      <td>978</td>\n",
       "      <td>97801</td>\n",
       "      <td>Saint-Martin</td>\n",
       "      <td>978241</td>\n",
       "      <td>9780101</td>\n",
       "      <td>La Savane-Gd Case-Anse Marcel-Cul de Sac</td>\n",
       "      <td>1</td>\n",
       "      <td>7399.679871</td>\n",
       "      <td>318.817506</td>\n",
       "      <td>...</td>\n",
       "      <td>918.610483</td>\n",
       "      <td>116.409754</td>\n",
       "      <td>310.436512</td>\n",
       "      <td>797.317626</td>\n",
       "      <td>6251.122404</td>\n",
       "      <td>1148.557466</td>\n",
       "      <td>1444.622295</td>\n",
       "      <td>7399.679871</td>\n",
       "      <td>0.000000</td>\n",
       "      <td>coll_OM</td>\n",
       "    </tr>\n",
       "    <tr>\n",
       "      <th>14</th>\n",
       "      <td>978010109</td>\n",
       "      <td>978</td>\n",
       "      <td>97801</td>\n",
       "      <td>Saint-Martin</td>\n",
       "      <td>978241</td>\n",
       "      <td>9780101</td>\n",
       "      <td>Quartier d'Orleans-Gloire-Griselle</td>\n",
       "      <td>1</td>\n",
       "      <td>4462.208206</td>\n",
       "      <td>237.789432</td>\n",
       "      <td>...</td>\n",
       "      <td>536.157672</td>\n",
       "      <td>111.389187</td>\n",
       "      <td>103.116462</td>\n",
       "      <td>805.773743</td>\n",
       "      <td>2751.860160</td>\n",
       "      <td>1710.348046</td>\n",
       "      <td>1646.555314</td>\n",
       "      <td>4462.208206</td>\n",
       "      <td>0.000000</td>\n",
       "      <td>coll_OM</td>\n",
       "    </tr>\n",
       "    <tr>\n",
       "      <th>15</th>\n",
       "      <td>978010110</td>\n",
       "      <td>978</td>\n",
       "      <td>97801</td>\n",
       "      <td>Saint-Martin</td>\n",
       "      <td>978241</td>\n",
       "      <td>9780101</td>\n",
       "      <td>Grand Fond-Belle Plaine-Oyster Pond</td>\n",
       "      <td>1</td>\n",
       "      <td>2532.147400</td>\n",
       "      <td>166.505150</td>\n",
       "      <td>...</td>\n",
       "      <td>308.293019</td>\n",
       "      <td>58.115058</td>\n",
       "      <td>67.703194</td>\n",
       "      <td>377.051043</td>\n",
       "      <td>1488.907494</td>\n",
       "      <td>1043.239906</td>\n",
       "      <td>962.787352</td>\n",
       "      <td>2532.147400</td>\n",
       "      <td>0.000000</td>\n",
       "      <td>coll_OM</td>\n",
       "    </tr>\n",
       "  </tbody>\n",
       "</table>\n",
       "<p>49653 rows × 81 columns</p>\n",
       "</div>"
      ],
      "text/plain": [
       "         IRIS  DEP    COM                   LIBCOM  TRIRIS GRD_QUART  \\\n",
       "0   010010000   01  01001  L'Abergement-Clémenciat  ZZZZZZ   0100100   \n",
       "1   010020000   01  01002    L'Abergement-de-Varey  ZZZZZZ   0100200   \n",
       "2   010040101   01  01004        Ambérieu-en-Bugey  ZZZZZZ   0100401   \n",
       "3   010040102   01  01004        Ambérieu-en-Bugey  ZZZZZZ   0100401   \n",
       "4   010040201   01  01004        Ambérieu-en-Bugey  ZZZZZZ   0100402   \n",
       "..        ...  ...    ...                      ...     ...       ...   \n",
       "11  978010106  978  97801             Saint-Martin  978231   9780101   \n",
       "12  978010107  978  97801             Saint-Martin  978231   9780101   \n",
       "13  978010108  978  97801             Saint-Martin  978241   9780101   \n",
       "14  978010109  978  97801             Saint-Martin  978241   9780101   \n",
       "15  978010110  978  97801             Saint-Martin  978241   9780101   \n",
       "\n",
       "                                         LIBIRIS LAB_IRIS      P16_POP  \\\n",
       "0   L'Abergement-Clémenciat (commune non irisée)        5   767.000000   \n",
       "1     L'Abergement-de-Varey (commune non irisée)        5   243.000000   \n",
       "2               Les Perouses-Triangle d'Activité        1  1893.112206   \n",
       "3                                  Longeray-Gare        1  3546.210164   \n",
       "4                    Centre-St Germain-Vareilles        1  4100.003588   \n",
       "..                                           ...      ...          ...   \n",
       "11                             Galisbay-Agrement        1  2146.610574   \n",
       "12       C. Gate-St Louis-Rambaud-Colomb.-Pic P.        1  3517.883239   \n",
       "13      La Savane-Gd Case-Anse Marcel-Cul de Sac        1  7399.679871   \n",
       "14            Quartier d'Orleans-Gloire-Griselle        1  4462.208206   \n",
       "15           Grand Fond-Belle Plaine-Oyster Pond        1  2532.147400   \n",
       "\n",
       "    P16_POP0002  ...  C16_F15P_CS5  C16_F15P_CS6  C16_F15P_CS7  C16_F15P_CS8  \\\n",
       "0     29.000000  ...     85.000000     30.000000     70.000000     15.000000   \n",
       "1     14.000000  ...     25.000000      0.000000     20.000000      0.000000   \n",
       "2    102.492841  ...    158.028018     59.452099    216.381754    195.032628   \n",
       "3    176.709046  ...    354.962018    158.716105    351.399678    346.514489   \n",
       "4    175.616863  ...    407.311067    147.066671    529.371210    334.262710   \n",
       "..          ...  ...           ...           ...           ...           ...   \n",
       "11    91.364728  ...    401.842148     79.088470     95.766908    216.315769   \n",
       "12   121.104624  ...    419.653070     57.729779    174.204029    377.852008   \n",
       "13   318.817506  ...    918.610483    116.409754    310.436512    797.317626   \n",
       "14   237.789432  ...    536.157672    111.389187    103.116462    805.773743   \n",
       "15   166.505150  ...    308.293019     58.115058     67.703194    377.051043   \n",
       "\n",
       "     P16_POP_FR  P16_POP_ETR  P16_POP_IMM     P16_PMEN  P16_PHORMEN   source  \n",
       "0    759.000000     8.000000    20.000000   767.000000     0.000000   france  \n",
       "1    241.000000     2.000000     3.000000   243.000000     0.000000   france  \n",
       "2   1614.595359   278.516847   308.098676  1557.106066   336.006141   france  \n",
       "3   3115.756603   430.453561   515.488156  3546.210164     0.000000   france  \n",
       "4   3831.463866   268.539722   341.362897  4012.001980    88.001608   france  \n",
       "..          ...          ...          ...          ...          ...      ...  \n",
       "11  1233.818654   912.791920   883.577973  2146.610574     0.000000  coll_OM  \n",
       "12  2831.889309   685.993930   832.587752  3517.883239     0.000000  coll_OM  \n",
       "13  6251.122404  1148.557466  1444.622295  7399.679871     0.000000  coll_OM  \n",
       "14  2751.860160  1710.348046  1646.555314  4462.208206     0.000000  coll_OM  \n",
       "15  1488.907494  1043.239906   962.787352  2532.147400     0.000000  coll_OM  \n",
       "\n",
       "[49653 rows x 81 columns]"
      ]
     },
     "execution_count": 15,
     "metadata": {},
     "output_type": "execute_result"
    }
   ],
   "source": [
    "# dataIR = pd.read_csv('IRIS_population/IRIS_population_Fr_CollOM.csv')\n",
    "dataIR = popglobIR\n",
    "dataIR"
   ]
  },
  {
   "cell_type": "code",
   "execution_count": 16,
   "metadata": {},
   "outputs": [],
   "source": [
    "# dataIR.isnull().sum()/len(dataIR)*100"
   ]
  },
  {
   "cell_type": "code",
   "execution_count": 17,
   "metadata": {},
   "outputs": [],
   "source": [
    "dataIR_base = dataIR[['IRIS', 'DEP', 'COM','LIBCOM', 'GRD_QUART', 'LIBIRIS', 'TRIRIS', 'LAB_IRIS', 'P16_POP', 'P16_POP0002', 'P16_POP0305',\n",
    "                 'P16_POP0610', 'P16_POP1117', 'P16_POP1824', 'P16_POP2539', 'P16_POP4054', 'P16_POP5564',\n",
    "                 'P16_POP6579', 'P16_POP80P', 'P16_POP0019', 'P16_POP2064', 'P16_POP65P', 'P16_POPH', 'P16_H0019',\n",
    "                 'P16_H2064', 'P16_H65P','P16_POPF', 'P16_F0019', 'P16_F2064', 'P16_F65P', 'C16_POP15P', 'C16_H15P', 'C16_H15P_CS1',\n",
    "                 'C16_H15P_CS2', 'C16_H15P_CS3', 'C16_H15P_CS4', 'C16_H15P_CS5', 'C16_H15P_CS6', 'C16_H15P_CS7',\n",
    "                 'C16_H15P_CS8', 'C16_F15P', 'C16_F15P_CS1', 'C16_F15P_CS2', 'C16_F15P_CS3', 'C16_F15P_CS4',\n",
    "                 'C16_F15P_CS5', 'C16_F15P_CS6', 'C16_F15P_CS7', 'C16_F15P_CS8', 'P16_POP_FR', 'P16_POP_ETR', 'P16_POP_IMM',\n",
    "                 'P16_PMEN', 'P16_PHORMEN']]"
   ]
  },
  {
   "cell_type": "markdown",
   "metadata": {},
   "source": [
    "### Drop des colonnes dont on n'a pas besoin."
   ]
  },
  {
   "cell_type": "code",
   "execution_count": 18,
   "metadata": {},
   "outputs": [],
   "source": [
    "dataIR_new = dataIR.drop(columns=['IRIS','COM', 'LIBCOM', 'GRD_QUART', 'LIBIRIS','TRIRIS', 'LAB_IRIS', 'P16_POP0002', 'P16_POP0305',\n",
    "                                  'P16_POP0610', 'P16_POP1117', 'P16_POP1824', 'P16_POP2539', 'P16_POP4054', 'P16_POP5564',\n",
    "                                  'P16_POP6579', 'P16_POP80P', 'P16_POP0019',\n",
    "                                  'P16_POP2064', 'P16_POP65P', 'P16_H0019', 'C16_H15P_CS1', 'C16_H15P_CS2', 'C16_H15P_CS3', 'C16_H15P_CS4', 'C16_H15P_CS5', 'C16_H15P_CS6',\n",
    "                                  'C16_H15P_CS7', 'C16_H15P_CS8', 'C16_F15P_CS1', 'C16_F15P_CS2', 'C16_F15P_CS3', 'C16_F15P_CS4',\n",
    "                                  'C16_F15P_CS5', 'C16_F15P_CS6', 'C16_F15P_CS7', 'C16_F15P_CS8', \n",
    "                                  'P16_H2064', 'P16_H65P', 'P16_F0019', 'P16_F2064', 'P16_F65P', 'C16_POP15P', 'C16_H15P', 'C16_F15P', 'C16_POP15P_CS1',\n",
    "                                  'C16_POP15P_CS2', 'C16_POP15P_CS3', 'C16_POP15P_CS4', 'C16_POP15P_CS5', 'C16_POP15P_CS6', 'C16_POP15P_CS7',\n",
    "                                  'C16_POP15P_CS8', 'P16_POP_FR', 'P16_POP_ETR', 'P16_POP_IMM',\n",
    "                                  'P16_PMEN', 'P16_PHORMEN'], axis=1)"
   ]
  },
  {
   "cell_type": "code",
   "execution_count": 19,
   "metadata": {},
   "outputs": [
    {
     "data": {
      "text/html": [
       "<div>\n",
       "<style scoped>\n",
       "    .dataframe tbody tr th:only-of-type {\n",
       "        vertical-align: middle;\n",
       "    }\n",
       "\n",
       "    .dataframe tbody tr th {\n",
       "        vertical-align: top;\n",
       "    }\n",
       "\n",
       "    .dataframe thead th {\n",
       "        text-align: right;\n",
       "    }\n",
       "</style>\n",
       "<table border=\"1\" class=\"dataframe\">\n",
       "  <thead>\n",
       "    <tr style=\"text-align: right;\">\n",
       "      <th></th>\n",
       "      <th>DEP</th>\n",
       "      <th>P16_POP</th>\n",
       "      <th>P16_POP0014</th>\n",
       "      <th>P16_POP1529</th>\n",
       "      <th>P16_POP3044</th>\n",
       "      <th>P16_POP4559</th>\n",
       "      <th>P16_POP6074</th>\n",
       "      <th>P16_POP75P</th>\n",
       "      <th>P16_POPH</th>\n",
       "      <th>P16_H0014</th>\n",
       "      <th>...</th>\n",
       "      <th>P16_H6074</th>\n",
       "      <th>P16_H75P</th>\n",
       "      <th>P16_POPF</th>\n",
       "      <th>P16_F0014</th>\n",
       "      <th>P16_F1529</th>\n",
       "      <th>P16_F3044</th>\n",
       "      <th>P16_F4559</th>\n",
       "      <th>P16_F6074</th>\n",
       "      <th>P16_F75P</th>\n",
       "      <th>source</th>\n",
       "    </tr>\n",
       "  </thead>\n",
       "  <tbody>\n",
       "    <tr>\n",
       "      <th>0</th>\n",
       "      <td>01</td>\n",
       "      <td>767.000000</td>\n",
       "      <td>161.000000</td>\n",
       "      <td>102.000000</td>\n",
       "      <td>132.000000</td>\n",
       "      <td>189.000000</td>\n",
       "      <td>125.000000</td>\n",
       "      <td>58.000000</td>\n",
       "      <td>392.000000</td>\n",
       "      <td>84.000000</td>\n",
       "      <td>...</td>\n",
       "      <td>61.000000</td>\n",
       "      <td>28.000000</td>\n",
       "      <td>375.000000</td>\n",
       "      <td>77.000000</td>\n",
       "      <td>47.000000</td>\n",
       "      <td>67.000000</td>\n",
       "      <td>90.000000</td>\n",
       "      <td>64.000000</td>\n",
       "      <td>30.000000</td>\n",
       "      <td>france</td>\n",
       "    </tr>\n",
       "    <tr>\n",
       "      <th>1</th>\n",
       "      <td>01</td>\n",
       "      <td>243.000000</td>\n",
       "      <td>55.000000</td>\n",
       "      <td>28.000000</td>\n",
       "      <td>70.000000</td>\n",
       "      <td>37.000000</td>\n",
       "      <td>34.000000</td>\n",
       "      <td>19.000000</td>\n",
       "      <td>123.000000</td>\n",
       "      <td>26.000000</td>\n",
       "      <td>...</td>\n",
       "      <td>22.000000</td>\n",
       "      <td>10.000000</td>\n",
       "      <td>120.000000</td>\n",
       "      <td>29.000000</td>\n",
       "      <td>18.000000</td>\n",
       "      <td>32.000000</td>\n",
       "      <td>20.000000</td>\n",
       "      <td>12.000000</td>\n",
       "      <td>9.000000</td>\n",
       "      <td>france</td>\n",
       "    </tr>\n",
       "    <tr>\n",
       "      <th>2</th>\n",
       "      <td>01</td>\n",
       "      <td>1893.112206</td>\n",
       "      <td>319.155575</td>\n",
       "      <td>519.011004</td>\n",
       "      <td>346.937127</td>\n",
       "      <td>259.198657</td>\n",
       "      <td>295.470786</td>\n",
       "      <td>153.339057</td>\n",
       "      <td>995.484433</td>\n",
       "      <td>172.326260</td>\n",
       "      <td>...</td>\n",
       "      <td>140.946341</td>\n",
       "      <td>67.457789</td>\n",
       "      <td>897.627773</td>\n",
       "      <td>146.829316</td>\n",
       "      <td>228.196459</td>\n",
       "      <td>150.399826</td>\n",
       "      <td>131.796460</td>\n",
       "      <td>154.524445</td>\n",
       "      <td>85.881268</td>\n",
       "      <td>france</td>\n",
       "    </tr>\n",
       "    <tr>\n",
       "      <th>3</th>\n",
       "      <td>01</td>\n",
       "      <td>3546.210164</td>\n",
       "      <td>706.686436</td>\n",
       "      <td>795.052938</td>\n",
       "      <td>737.794854</td>\n",
       "      <td>607.335319</td>\n",
       "      <td>425.641161</td>\n",
       "      <td>273.699455</td>\n",
       "      <td>1742.315872</td>\n",
       "      <td>382.606677</td>\n",
       "      <td>...</td>\n",
       "      <td>168.173042</td>\n",
       "      <td>82.269306</td>\n",
       "      <td>1803.894292</td>\n",
       "      <td>324.079759</td>\n",
       "      <td>395.998460</td>\n",
       "      <td>350.263925</td>\n",
       "      <td>284.653879</td>\n",
       "      <td>257.468120</td>\n",
       "      <td>191.430150</td>\n",
       "      <td>france</td>\n",
       "    </tr>\n",
       "    <tr>\n",
       "      <th>4</th>\n",
       "      <td>01</td>\n",
       "      <td>4100.003588</td>\n",
       "      <td>801.240994</td>\n",
       "      <td>848.693971</td>\n",
       "      <td>732.298592</td>\n",
       "      <td>717.244067</td>\n",
       "      <td>591.336732</td>\n",
       "      <td>409.189232</td>\n",
       "      <td>1911.360437</td>\n",
       "      <td>401.716974</td>\n",
       "      <td>...</td>\n",
       "      <td>235.452797</td>\n",
       "      <td>143.979846</td>\n",
       "      <td>2188.643152</td>\n",
       "      <td>399.524021</td>\n",
       "      <td>419.634896</td>\n",
       "      <td>378.848273</td>\n",
       "      <td>369.542642</td>\n",
       "      <td>355.883935</td>\n",
       "      <td>265.209386</td>\n",
       "      <td>france</td>\n",
       "    </tr>\n",
       "  </tbody>\n",
       "</table>\n",
       "<p>5 rows × 23 columns</p>\n",
       "</div>"
      ],
      "text/plain": [
       "  DEP      P16_POP  P16_POP0014  P16_POP1529  P16_POP3044  P16_POP4559  \\\n",
       "0  01   767.000000   161.000000   102.000000   132.000000   189.000000   \n",
       "1  01   243.000000    55.000000    28.000000    70.000000    37.000000   \n",
       "2  01  1893.112206   319.155575   519.011004   346.937127   259.198657   \n",
       "3  01  3546.210164   706.686436   795.052938   737.794854   607.335319   \n",
       "4  01  4100.003588   801.240994   848.693971   732.298592   717.244067   \n",
       "\n",
       "   P16_POP6074  P16_POP75P     P16_POPH   P16_H0014  ...   P16_H6074  \\\n",
       "0   125.000000   58.000000   392.000000   84.000000  ...   61.000000   \n",
       "1    34.000000   19.000000   123.000000   26.000000  ...   22.000000   \n",
       "2   295.470786  153.339057   995.484433  172.326260  ...  140.946341   \n",
       "3   425.641161  273.699455  1742.315872  382.606677  ...  168.173042   \n",
       "4   591.336732  409.189232  1911.360437  401.716974  ...  235.452797   \n",
       "\n",
       "     P16_H75P     P16_POPF   P16_F0014   P16_F1529   P16_F3044   P16_F4559  \\\n",
       "0   28.000000   375.000000   77.000000   47.000000   67.000000   90.000000   \n",
       "1   10.000000   120.000000   29.000000   18.000000   32.000000   20.000000   \n",
       "2   67.457789   897.627773  146.829316  228.196459  150.399826  131.796460   \n",
       "3   82.269306  1803.894292  324.079759  395.998460  350.263925  284.653879   \n",
       "4  143.979846  2188.643152  399.524021  419.634896  378.848273  369.542642   \n",
       "\n",
       "    P16_F6074    P16_F75P  source  \n",
       "0   64.000000   30.000000  france  \n",
       "1   12.000000    9.000000  france  \n",
       "2  154.524445   85.881268  france  \n",
       "3  257.468120  191.430150  france  \n",
       "4  355.883935  265.209386  france  \n",
       "\n",
       "[5 rows x 23 columns]"
      ]
     },
     "execution_count": 19,
     "metadata": {},
     "output_type": "execute_result"
    }
   ],
   "source": [
    "dataIR_new.head()"
   ]
  },
  {
   "cell_type": "code",
   "execution_count": 20,
   "metadata": {},
   "outputs": [
    {
     "data": {
      "text/plain": [
       "DEP              103\n",
       "P16_POP        25645\n",
       "P16_POP0014    41157\n",
       "P16_POP1529    40895\n",
       "P16_POP3044    41172\n",
       "P16_POP4559    41356\n",
       "P16_POP6074    41181\n",
       "P16_POP75P     40662\n",
       "P16_POPH       41821\n",
       "P16_H0014      40345\n",
       "P16_H1529      40019\n",
       "P16_H3044      40368\n",
       "P16_H4559      40546\n",
       "P16_H6074      40392\n",
       "P16_H75P       39375\n",
       "P16_POPF       41860\n",
       "P16_F0014      40252\n",
       "P16_F1529      39916\n",
       "P16_F3044      40320\n",
       "P16_F4559      40573\n",
       "P16_F6074      40421\n",
       "P16_F75P       39820\n",
       "source             2\n",
       "dtype: int64"
      ]
     },
     "execution_count": 20,
     "metadata": {},
     "output_type": "execute_result"
    }
   ],
   "source": [
    "dataIR_new.apply(lambda x: len(x.unique()))"
   ]
  },
  {
   "cell_type": "code",
   "execution_count": 21,
   "metadata": {},
   "outputs": [
    {
     "data": {
      "text/plain": [
       "array(['01', '02', '03', '04', '05', '06', '07', '08', '09', '10', '11',\n",
       "       '12', '13', '14', '15', '16', '17', '18', '19', '21', '22', '23',\n",
       "       '24', '25', '26', '27', '28', '29', '2A', '2B', '30', '31', '32',\n",
       "       '33', '34', '35', '36', '37', '38', '39', '40', '41', '42', '43',\n",
       "       '44', '45', '46', '47', '48', '49', '50', '51', '52', '53', '54',\n",
       "       '55', '56', '57', '58', '59', '60', '61', '62', '63', '64', '65',\n",
       "       '66', '67', '68', '69', '70', '71', '72', '73', '74', '75', '76',\n",
       "       '77', '78', '79', '80', '81', '82', '83', '84', '85', '86', '87',\n",
       "       '88', '89', '90', '91', '92', '93', '94', '95', '971', '972',\n",
       "       '973', '974', 975, 977, 978], dtype=object)"
      ]
     },
     "execution_count": 21,
     "metadata": {},
     "output_type": "execute_result"
    }
   ],
   "source": [
    "# les départements\n",
    "dataIR_new['DEP'].unique()"
   ]
  },
  {
   "cell_type": "code",
   "execution_count": 22,
   "metadata": {},
   "outputs": [],
   "source": [
    "# np.count_nonzero(dataIR_new['DEP'].unique(), axis=0)"
   ]
  },
  {
   "cell_type": "markdown",
   "metadata": {},
   "source": [
    "### Checking missing values\n",
    "No data are missing!"
   ]
  },
  {
   "cell_type": "code",
   "execution_count": 23,
   "metadata": {},
   "outputs": [
    {
     "data": {
      "text/plain": [
       "DEP            0.0\n",
       "P16_POP        0.0\n",
       "P16_POP0014    0.0\n",
       "P16_POP1529    0.0\n",
       "P16_POP3044    0.0\n",
       "P16_POP4559    0.0\n",
       "P16_POP6074    0.0\n",
       "P16_POP75P     0.0\n",
       "P16_POPH       0.0\n",
       "P16_H0014      0.0\n",
       "P16_H1529      0.0\n",
       "P16_H3044      0.0\n",
       "P16_H4559      0.0\n",
       "P16_H6074      0.0\n",
       "P16_H75P       0.0\n",
       "P16_POPF       0.0\n",
       "P16_F0014      0.0\n",
       "P16_F1529      0.0\n",
       "P16_F3044      0.0\n",
       "P16_F4559      0.0\n",
       "P16_F6074      0.0\n",
       "P16_F75P       0.0\n",
       "source         0.0\n",
       "dtype: float64"
      ]
     },
     "execution_count": 23,
     "metadata": {},
     "output_type": "execute_result"
    }
   ],
   "source": [
    "dataIR_new.isnull().sum()/len(dataIR_new)*100"
   ]
  },
  {
   "cell_type": "markdown",
   "metadata": {},
   "source": [
    "### Agrégation des chiffres par Département"
   ]
  },
  {
   "cell_type": "code",
   "execution_count": 24,
   "metadata": {},
   "outputs": [],
   "source": [
    "#datadep = dataIR_new.groupby(['DEP']).sum()\n",
    "datadep = dataIR_new.groupby(['DEP']).sum().reset_index()"
   ]
  },
  {
   "cell_type": "code",
   "execution_count": 25,
   "metadata": {},
   "outputs": [
    {
     "data": {
      "text/plain": [
       "(103, 22)"
      ]
     },
     "execution_count": 25,
     "metadata": {},
     "output_type": "execute_result"
    }
   ],
   "source": [
    "#datadep = dataIR_new.groupby(['DEP']).sum()\n",
    "datadep.shape"
   ]
  },
  {
   "cell_type": "code",
   "execution_count": 26,
   "metadata": {},
   "outputs": [],
   "source": [
    "# conversion des DEP 'int' en 'str'\n",
    "datadep['DEP'] = datadep['DEP'].astype(str)"
   ]
  },
  {
   "cell_type": "markdown",
   "metadata": {},
   "source": [
    "### Récupération du nom des départements"
   ]
  },
  {
   "cell_type": "code",
   "execution_count": 27,
   "metadata": {},
   "outputs": [],
   "source": [
    "data = pd.read_json('IRIS_population/areas_fr.json', typ='series')\n",
    "\n",
    "name = []\n",
    "for i in datadep['DEP']:\n",
    "    name.append(data[i])\n",
    "\n",
    "# inclusion des noms dans une nouvelle colonne\n",
    "datadep['LIBDEP'] = name"
   ]
  },
  {
   "cell_type": "code",
   "execution_count": 28,
   "metadata": {},
   "outputs": [
    {
     "data": {
      "text/html": [
       "<div>\n",
       "<style scoped>\n",
       "    .dataframe tbody tr th:only-of-type {\n",
       "        vertical-align: middle;\n",
       "    }\n",
       "\n",
       "    .dataframe tbody tr th {\n",
       "        vertical-align: top;\n",
       "    }\n",
       "\n",
       "    .dataframe thead th {\n",
       "        text-align: right;\n",
       "    }\n",
       "</style>\n",
       "<table border=\"1\" class=\"dataframe\">\n",
       "  <thead>\n",
       "    <tr style=\"text-align: right;\">\n",
       "      <th></th>\n",
       "      <th>DEP</th>\n",
       "      <th>LIBDEP</th>\n",
       "    </tr>\n",
       "  </thead>\n",
       "  <tbody>\n",
       "    <tr>\n",
       "      <th>0</th>\n",
       "      <td>975</td>\n",
       "      <td>Saint-Pierre-et-Miquelon</td>\n",
       "    </tr>\n",
       "    <tr>\n",
       "      <th>1</th>\n",
       "      <td>977</td>\n",
       "      <td>Saint-Barthelemy</td>\n",
       "    </tr>\n",
       "    <tr>\n",
       "      <th>2</th>\n",
       "      <td>978</td>\n",
       "      <td>Saint-Martin</td>\n",
       "    </tr>\n",
       "    <tr>\n",
       "      <th>3</th>\n",
       "      <td>01</td>\n",
       "      <td>Ain</td>\n",
       "    </tr>\n",
       "    <tr>\n",
       "      <th>4</th>\n",
       "      <td>02</td>\n",
       "      <td>Aisne</td>\n",
       "    </tr>\n",
       "    <tr>\n",
       "      <th>...</th>\n",
       "      <td>...</td>\n",
       "      <td>...</td>\n",
       "    </tr>\n",
       "    <tr>\n",
       "      <th>98</th>\n",
       "      <td>95</td>\n",
       "      <td>Val-d'oise</td>\n",
       "    </tr>\n",
       "    <tr>\n",
       "      <th>99</th>\n",
       "      <td>971</td>\n",
       "      <td>Guadeloupe</td>\n",
       "    </tr>\n",
       "    <tr>\n",
       "      <th>100</th>\n",
       "      <td>972</td>\n",
       "      <td>Martinique</td>\n",
       "    </tr>\n",
       "    <tr>\n",
       "      <th>101</th>\n",
       "      <td>973</td>\n",
       "      <td>Guyane</td>\n",
       "    </tr>\n",
       "    <tr>\n",
       "      <th>102</th>\n",
       "      <td>974</td>\n",
       "      <td>Réunion</td>\n",
       "    </tr>\n",
       "  </tbody>\n",
       "</table>\n",
       "<p>103 rows × 2 columns</p>\n",
       "</div>"
      ],
      "text/plain": [
       "     DEP                    LIBDEP\n",
       "0    975  Saint-Pierre-et-Miquelon\n",
       "1    977          Saint-Barthelemy\n",
       "2    978              Saint-Martin\n",
       "3     01                       Ain\n",
       "4     02                     Aisne\n",
       "..   ...                       ...\n",
       "98    95                Val-d'oise\n",
       "99   971                Guadeloupe\n",
       "100  972                Martinique\n",
       "101  973                    Guyane\n",
       "102  974                   Réunion\n",
       "\n",
       "[103 rows x 2 columns]"
      ]
     },
     "execution_count": 28,
     "metadata": {},
     "output_type": "execute_result"
    }
   ],
   "source": [
    "datadep[['DEP','LIBDEP']]"
   ]
  },
  {
   "cell_type": "code",
   "execution_count": 29,
   "metadata": {},
   "outputs": [],
   "source": [
    "datadep.to_csv('IRIS_population/DEP_population_France_CO-M.csv', index=False)"
   ]
  },
  {
   "cell_type": "code",
   "execution_count": 30,
   "metadata": {},
   "outputs": [
    {
     "name": "stdout",
     "output_type": "stream",
     "text": [
      "\n",
      "Total Population hors Mayotte avec CO-M: 66,413,134.27 \n",
      "Total Hommes hors Mayotte avec CO-M : 32,137,832.81 \n",
      "Total Femmes hors Mayotte avec CO-M : 34,275,301.47 \n",
      "\n",
      "Population par REG\n"
     ]
    }
   ],
   "source": [
    "print(\"\\nTotal Population hors Mayotte avec CO-M:\", \"{:,.2f}\".format(datadep['P16_POP'].sum()),\n",
    "      \"\\nTotal Hommes hors Mayotte avec CO-M :\", \"{:,.2f}\".format(datadep['P16_POPH'].sum()),\n",
    "      \"\\nTotal Femmes hors Mayotte avec CO-M :\", \"{:,.2f}\".format(datadep['P16_POPF'].sum()),\n",
    "      \"\\n\\nPopulation par REG\")"
   ]
  },
  {
   "cell_type": "code",
   "execution_count": null,
   "metadata": {},
   "outputs": [],
   "source": []
  }
 ],
 "metadata": {
  "kernelspec": {
   "display_name": "Python 3",
   "language": "python",
   "name": "python3"
  },
  "language_info": {
   "codemirror_mode": {
    "name": "ipython",
    "version": 3
   },
   "file_extension": ".py",
   "mimetype": "text/x-python",
   "name": "python",
   "nbconvert_exporter": "python",
   "pygments_lexer": "ipython3",
   "version": "3.6.8"
  }
 },
 "nbformat": 4,
 "nbformat_minor": 2
}
