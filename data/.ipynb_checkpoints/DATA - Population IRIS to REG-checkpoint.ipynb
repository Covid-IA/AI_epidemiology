{
 "cells": [
  {
   "cell_type": "markdown",
   "metadata": {},
   "source": [
    "## Population 2016 (IRIS -> REGION) - France\n",
    "infra-communales"
   ]
  },
  {
   "cell_type": "code",
   "execution_count": 2,
   "metadata": {},
   "outputs": [],
   "source": [
    "import pandas as pd\n",
    "import numpy as np"
   ]
  },
  {
   "cell_type": "markdown",
   "metadata": {},
   "source": [
    "### Si besoin de comprendre les variables (nom des colonnes)."
   ]
  },
  {
   "cell_type": "code",
   "execution_count": 3,
   "metadata": {
    "scrolled": true
   },
   "outputs": [],
   "source": [
    "# ici sont les variables et leurs explications.\n",
    "# varpopIR = pd.read_excel('IRIS_population/variable_struct-pop-2016-cIA.xlsx')\n",
    "# varpopIR"
   ]
  },
  {
   "cell_type": "markdown",
   "metadata": {},
   "source": [
    "### Récupération des données France (hs Mayotte) et Collect. Outre-Mer"
   ]
  },
  {
   "cell_type": "code",
   "execution_count": 4,
   "metadata": {},
   "outputs": [],
   "source": [
    "# population France hors Mayotte\n",
    "france= pd.read_excel('IRIS_population/base-ic-evol-struct-pop-2016-cIA.xls')\n",
    "\n",
    "# population collectivité d'outre-mer (St-Pierre-Miquelon, St-Martin, St-Barthélemy)\n",
    "#com = pd.read_excel('IRIS_population/base-ic-evol-struct-pop-2016-com-cIA.xls')"
   ]
  },
  {
   "cell_type": "code",
   "execution_count": 5,
   "metadata": {},
   "outputs": [
    {
     "data": {
      "text/html": [
       "<div>\n",
       "<style scoped>\n",
       "    .dataframe tbody tr th:only-of-type {\n",
       "        vertical-align: middle;\n",
       "    }\n",
       "\n",
       "    .dataframe tbody tr th {\n",
       "        vertical-align: top;\n",
       "    }\n",
       "\n",
       "    .dataframe thead th {\n",
       "        text-align: right;\n",
       "    }\n",
       "</style>\n",
       "<table border=\"1\" class=\"dataframe\">\n",
       "  <thead>\n",
       "    <tr style=\"text-align: right;\">\n",
       "      <th></th>\n",
       "      <th>IRIS</th>\n",
       "      <th>REG</th>\n",
       "      <th>DEP</th>\n",
       "      <th>UU2010</th>\n",
       "      <th>COM</th>\n",
       "      <th>LIBCOM</th>\n",
       "      <th>TRIRIS</th>\n",
       "      <th>GRD_QUART</th>\n",
       "      <th>LIBIRIS</th>\n",
       "      <th>TYP_IRIS</th>\n",
       "      <th>...</th>\n",
       "      <th>C16_F15P_CS4</th>\n",
       "      <th>C16_F15P_CS5</th>\n",
       "      <th>C16_F15P_CS6</th>\n",
       "      <th>C16_F15P_CS7</th>\n",
       "      <th>C16_F15P_CS8</th>\n",
       "      <th>P16_POP_FR</th>\n",
       "      <th>P16_POP_ETR</th>\n",
       "      <th>P16_POP_IMM</th>\n",
       "      <th>P16_PMEN</th>\n",
       "      <th>P16_PHORMEN</th>\n",
       "    </tr>\n",
       "  </thead>\n",
       "  <tbody>\n",
       "    <tr>\n",
       "      <th>0</th>\n",
       "      <td>010010000</td>\n",
       "      <td>84</td>\n",
       "      <td>01</td>\n",
       "      <td>01000</td>\n",
       "      <td>01001</td>\n",
       "      <td>L'Abergement-Clémenciat</td>\n",
       "      <td>ZZZZZZ</td>\n",
       "      <td>0100100</td>\n",
       "      <td>L'Abergement-Clémenciat (commune non irisée)</td>\n",
       "      <td>Z</td>\n",
       "      <td>...</td>\n",
       "      <td>50.000000</td>\n",
       "      <td>85.000000</td>\n",
       "      <td>30.000000</td>\n",
       "      <td>70.000000</td>\n",
       "      <td>15.000000</td>\n",
       "      <td>759.000000</td>\n",
       "      <td>8.000000</td>\n",
       "      <td>20.000000</td>\n",
       "      <td>767.000000</td>\n",
       "      <td>0.000000</td>\n",
       "    </tr>\n",
       "    <tr>\n",
       "      <th>1</th>\n",
       "      <td>010020000</td>\n",
       "      <td>84</td>\n",
       "      <td>01</td>\n",
       "      <td>01000</td>\n",
       "      <td>01002</td>\n",
       "      <td>L'Abergement-de-Varey</td>\n",
       "      <td>ZZZZZZ</td>\n",
       "      <td>0100200</td>\n",
       "      <td>L'Abergement-de-Varey (commune non irisée)</td>\n",
       "      <td>Z</td>\n",
       "      <td>...</td>\n",
       "      <td>20.000000</td>\n",
       "      <td>25.000000</td>\n",
       "      <td>0.000000</td>\n",
       "      <td>20.000000</td>\n",
       "      <td>0.000000</td>\n",
       "      <td>241.000000</td>\n",
       "      <td>2.000000</td>\n",
       "      <td>3.000000</td>\n",
       "      <td>243.000000</td>\n",
       "      <td>0.000000</td>\n",
       "    </tr>\n",
       "    <tr>\n",
       "      <th>2</th>\n",
       "      <td>010040101</td>\n",
       "      <td>84</td>\n",
       "      <td>01</td>\n",
       "      <td>01302</td>\n",
       "      <td>01004</td>\n",
       "      <td>Ambérieu-en-Bugey</td>\n",
       "      <td>ZZZZZZ</td>\n",
       "      <td>0100401</td>\n",
       "      <td>Les Perouses-Triangle d'Activité</td>\n",
       "      <td>H</td>\n",
       "      <td>...</td>\n",
       "      <td>99.457191</td>\n",
       "      <td>158.028018</td>\n",
       "      <td>59.452099</td>\n",
       "      <td>216.381754</td>\n",
       "      <td>195.032628</td>\n",
       "      <td>1614.595359</td>\n",
       "      <td>278.516847</td>\n",
       "      <td>308.098676</td>\n",
       "      <td>1557.106066</td>\n",
       "      <td>336.006141</td>\n",
       "    </tr>\n",
       "    <tr>\n",
       "      <th>3</th>\n",
       "      <td>010040102</td>\n",
       "      <td>84</td>\n",
       "      <td>01</td>\n",
       "      <td>01302</td>\n",
       "      <td>01004</td>\n",
       "      <td>Ambérieu-en-Bugey</td>\n",
       "      <td>ZZZZZZ</td>\n",
       "      <td>0100401</td>\n",
       "      <td>Longeray-Gare</td>\n",
       "      <td>H</td>\n",
       "      <td>...</td>\n",
       "      <td>220.097097</td>\n",
       "      <td>354.962018</td>\n",
       "      <td>158.716105</td>\n",
       "      <td>351.399678</td>\n",
       "      <td>346.514489</td>\n",
       "      <td>3115.756603</td>\n",
       "      <td>430.453561</td>\n",
       "      <td>515.488156</td>\n",
       "      <td>3546.210164</td>\n",
       "      <td>0.000000</td>\n",
       "    </tr>\n",
       "    <tr>\n",
       "      <th>4</th>\n",
       "      <td>010040201</td>\n",
       "      <td>84</td>\n",
       "      <td>01</td>\n",
       "      <td>01302</td>\n",
       "      <td>01004</td>\n",
       "      <td>Ambérieu-en-Bugey</td>\n",
       "      <td>ZZZZZZ</td>\n",
       "      <td>0100402</td>\n",
       "      <td>Centre-St Germain-Vareilles</td>\n",
       "      <td>H</td>\n",
       "      <td>...</td>\n",
       "      <td>236.966388</td>\n",
       "      <td>407.311067</td>\n",
       "      <td>147.066671</td>\n",
       "      <td>529.371210</td>\n",
       "      <td>334.262710</td>\n",
       "      <td>3831.463866</td>\n",
       "      <td>268.539722</td>\n",
       "      <td>341.362897</td>\n",
       "      <td>4012.001980</td>\n",
       "      <td>88.001608</td>\n",
       "    </tr>\n",
       "  </tbody>\n",
       "</table>\n",
       "<p>5 rows × 84 columns</p>\n",
       "</div>"
      ],
      "text/plain": [
       "        IRIS  REG DEP UU2010    COM                   LIBCOM  TRIRIS  \\\n",
       "0  010010000   84  01  01000  01001  L'Abergement-Clémenciat  ZZZZZZ   \n",
       "1  010020000   84  01  01000  01002    L'Abergement-de-Varey  ZZZZZZ   \n",
       "2  010040101   84  01  01302  01004        Ambérieu-en-Bugey  ZZZZZZ   \n",
       "3  010040102   84  01  01302  01004        Ambérieu-en-Bugey  ZZZZZZ   \n",
       "4  010040201   84  01  01302  01004        Ambérieu-en-Bugey  ZZZZZZ   \n",
       "\n",
       "  GRD_QUART                                       LIBIRIS TYP_IRIS  ...  \\\n",
       "0   0100100  L'Abergement-Clémenciat (commune non irisée)        Z  ...   \n",
       "1   0100200    L'Abergement-de-Varey (commune non irisée)        Z  ...   \n",
       "2   0100401              Les Perouses-Triangle d'Activité        H  ...   \n",
       "3   0100401                                 Longeray-Gare        H  ...   \n",
       "4   0100402                   Centre-St Germain-Vareilles        H  ...   \n",
       "\n",
       "   C16_F15P_CS4 C16_F15P_CS5  C16_F15P_CS6  C16_F15P_CS7  C16_F15P_CS8  \\\n",
       "0     50.000000    85.000000     30.000000     70.000000     15.000000   \n",
       "1     20.000000    25.000000      0.000000     20.000000      0.000000   \n",
       "2     99.457191   158.028018     59.452099    216.381754    195.032628   \n",
       "3    220.097097   354.962018    158.716105    351.399678    346.514489   \n",
       "4    236.966388   407.311067    147.066671    529.371210    334.262710   \n",
       "\n",
       "    P16_POP_FR  P16_POP_ETR  P16_POP_IMM     P16_PMEN  P16_PHORMEN  \n",
       "0   759.000000     8.000000    20.000000   767.000000     0.000000  \n",
       "1   241.000000     2.000000     3.000000   243.000000     0.000000  \n",
       "2  1614.595359   278.516847   308.098676  1557.106066   336.006141  \n",
       "3  3115.756603   430.453561   515.488156  3546.210164     0.000000  \n",
       "4  3831.463866   268.539722   341.362897  4012.001980    88.001608  \n",
       "\n",
       "[5 rows x 84 columns]"
      ]
     },
     "execution_count": 5,
     "metadata": {},
     "output_type": "execute_result"
    }
   ],
   "source": [
    "france.head()"
   ]
  },
  {
   "cell_type": "code",
   "execution_count": 6,
   "metadata": {},
   "outputs": [
    {
     "name": "stdout",
     "output_type": "stream",
     "text": [
      "(49637, 84)\n"
     ]
    }
   ],
   "source": [
    "print(france.shape)"
   ]
  },
  {
   "cell_type": "markdown",
   "metadata": {},
   "source": [
    "### Volume de la population"
   ]
  },
  {
   "cell_type": "code",
   "execution_count": 7,
   "metadata": {},
   "outputs": [
    {
     "name": "stdout",
     "output_type": "stream",
     "text": [
      "\n",
      "Total Population FR Metropole hors Mayotte : 66,361,587.27 \n",
      "Total Hommes FR Metropole hors Mayotte : 32,112,732.25 \n",
      "Total Femmes FR Metropole hors Mayotte : 34,248,855.02 \n",
      "\n",
      "Population par IRIS\n",
      "IRIS Type Z 26,955,406.00\n",
      "IRIS Type H 38,719,713.24\n",
      "IRIS Type A 443,482.46\n",
      "IRIS Type D 242,985.57\n"
     ]
    }
   ],
   "source": [
    "print(\"\\nTotal Population FR Metropole hors Mayotte :\", \"{:,.2f}\".format(france['P16_POP'].sum()),\n",
    "      \"\\nTotal Hommes FR Metropole hors Mayotte :\", \"{:,.2f}\".format(france['P16_POPH'].sum()),\n",
    "      \"\\nTotal Femmes FR Metropole hors Mayotte :\", \"{:,.2f}\".format(france['P16_POPF'].sum()),\n",
    "      \"\\n\\nPopulation par IRIS\")\n",
    "\n",
    "for i in france['TYP_IRIS'].unique():\n",
    "    print(\"IRIS Type\",i, \"{:,.2f}\".format(france.loc[france['TYP_IRIS'] == i]['P16_POP'].sum()))"
   ]
  },
  {
   "cell_type": "markdown",
   "metadata": {},
   "source": [
    "# Objectif Population >> REG POP ÂGE SEXE\n",
    "**GEO** : REG<br>\n",
    "**Pop âge**: 0-14 / 15-29 / 30-44 / 45-59 / 60-74 / 75 +<br>\n",
    "**Pop homme âge**: 0-14 / 15-29 / 30-44 / 45-59 / 60-74 / 75 +<br>\n",
    "**Pop femme âge**: 0-14 / 15-29 / 30-44 / 45-59 / 60-74 / 75 +<br>"
   ]
  },
  {
   "cell_type": "code",
   "execution_count": 8,
   "metadata": {},
   "outputs": [],
   "source": [
    "# dataIR.isnull().sum()/len(dataIR)*100"
   ]
  },
  {
   "cell_type": "code",
   "execution_count": 9,
   "metadata": {},
   "outputs": [],
   "source": [
    "data_base = france[['IRIS', 'DEP', 'COM','LIBCOM', 'REG', 'UU2010', 'TYP_IRIS', 'MODIF_IRIS', 'GRD_QUART', 'LIBIRIS', 'TRIRIS', 'LAB_IRIS', 'P16_POP', 'P16_POP0002', 'P16_POP0305',\n",
    "                 'P16_POP0610', 'P16_POP1117', 'P16_POP1824', 'P16_POP2539', 'P16_POP4054', 'P16_POP5564',\n",
    "                 'P16_POP6579', 'P16_POP80P', 'P16_POP0019', 'P16_POP2064', 'P16_POP65P', 'P16_POPH', 'P16_H0019',\n",
    "                 'P16_H2064', 'P16_H65P','P16_POPF', 'P16_F0019', 'P16_F2064', 'P16_F65P', 'C16_POP15P', 'C16_H15P', 'C16_H15P_CS1',\n",
    "                 'C16_H15P_CS2', 'C16_H15P_CS3', 'C16_H15P_CS4', 'C16_H15P_CS5', 'C16_H15P_CS6', 'C16_H15P_CS7',\n",
    "                 'C16_H15P_CS8', 'C16_F15P', 'C16_F15P_CS1', 'C16_F15P_CS2', 'C16_F15P_CS3', 'C16_F15P_CS4',\n",
    "                 'C16_F15P_CS5', 'C16_F15P_CS6', 'C16_F15P_CS7', 'C16_F15P_CS8', 'P16_POP_FR', 'P16_POP_ETR', 'P16_POP_IMM',\n",
    "                 'P16_PMEN', 'P16_PHORMEN']]"
   ]
  },
  {
   "cell_type": "markdown",
   "metadata": {},
   "source": [
    "### Drop des colonnes dont on n'a pas besoin."
   ]
  },
  {
   "cell_type": "code",
   "execution_count": 10,
   "metadata": {},
   "outputs": [],
   "source": [
    "dataREG = france.drop(columns=['IRIS', 'DEP', 'COM', 'LIBCOM', 'UU2010', 'TYP_IRIS', 'MODIF_IRIS','GRD_QUART', 'LIBIRIS','TRIRIS', 'LAB_IRIS', 'P16_POP0002', 'P16_POP0305',\n",
    "                                  'P16_POP0610', 'P16_POP1117', 'P16_POP1824', 'P16_POP2539', 'P16_POP4054', 'P16_POP5564',\n",
    "                                  'P16_POP6579', 'P16_POP80P', 'P16_POP0019',\n",
    "                                  'P16_POP2064', 'P16_POP65P', 'P16_H0019', 'C16_H15P_CS1', 'C16_H15P_CS2', 'C16_H15P_CS3', 'C16_H15P_CS4', 'C16_H15P_CS5', 'C16_H15P_CS6',\n",
    "                                  'C16_H15P_CS7', 'C16_H15P_CS8', 'C16_F15P_CS1', 'C16_F15P_CS2', 'C16_F15P_CS3', 'C16_F15P_CS4',\n",
    "                                  'C16_F15P_CS5', 'C16_F15P_CS6', 'C16_F15P_CS7', 'C16_F15P_CS8', \n",
    "                                  'P16_H2064', 'P16_H65P', 'P16_F0019', 'P16_F2064', 'P16_F65P', 'C16_POP15P', 'C16_H15P', 'C16_F15P', 'C16_POP15P_CS1',\n",
    "                                  'C16_POP15P_CS2', 'C16_POP15P_CS3', 'C16_POP15P_CS4', 'C16_POP15P_CS5', 'C16_POP15P_CS6', 'C16_POP15P_CS7',\n",
    "                                  'C16_POP15P_CS8', 'P16_POP_FR', 'P16_POP_ETR', 'P16_POP_IMM',\n",
    "                                  'P16_PMEN', 'P16_PHORMEN'], axis=1)"
   ]
  },
  {
   "cell_type": "code",
   "execution_count": 11,
   "metadata": {},
   "outputs": [
    {
     "data": {
      "text/html": [
       "<div>\n",
       "<style scoped>\n",
       "    .dataframe tbody tr th:only-of-type {\n",
       "        vertical-align: middle;\n",
       "    }\n",
       "\n",
       "    .dataframe tbody tr th {\n",
       "        vertical-align: top;\n",
       "    }\n",
       "\n",
       "    .dataframe thead th {\n",
       "        text-align: right;\n",
       "    }\n",
       "</style>\n",
       "<table border=\"1\" class=\"dataframe\">\n",
       "  <thead>\n",
       "    <tr style=\"text-align: right;\">\n",
       "      <th></th>\n",
       "      <th>REG</th>\n",
       "      <th>P16_POP</th>\n",
       "      <th>P16_POP0014</th>\n",
       "      <th>P16_POP1529</th>\n",
       "      <th>P16_POP3044</th>\n",
       "      <th>P16_POP4559</th>\n",
       "      <th>P16_POP6074</th>\n",
       "      <th>P16_POP75P</th>\n",
       "      <th>P16_POPH</th>\n",
       "      <th>P16_H0014</th>\n",
       "      <th>...</th>\n",
       "      <th>P16_H4559</th>\n",
       "      <th>P16_H6074</th>\n",
       "      <th>P16_H75P</th>\n",
       "      <th>P16_POPF</th>\n",
       "      <th>P16_F0014</th>\n",
       "      <th>P16_F1529</th>\n",
       "      <th>P16_F3044</th>\n",
       "      <th>P16_F4559</th>\n",
       "      <th>P16_F6074</th>\n",
       "      <th>P16_F75P</th>\n",
       "    </tr>\n",
       "  </thead>\n",
       "  <tbody>\n",
       "    <tr>\n",
       "      <th>0</th>\n",
       "      <td>84</td>\n",
       "      <td>767.000000</td>\n",
       "      <td>161.000000</td>\n",
       "      <td>102.000000</td>\n",
       "      <td>132.000000</td>\n",
       "      <td>189.000000</td>\n",
       "      <td>125.000000</td>\n",
       "      <td>58.000000</td>\n",
       "      <td>392.000000</td>\n",
       "      <td>84.000000</td>\n",
       "      <td>...</td>\n",
       "      <td>99.000000</td>\n",
       "      <td>61.000000</td>\n",
       "      <td>28.000000</td>\n",
       "      <td>375.000000</td>\n",
       "      <td>77.000000</td>\n",
       "      <td>47.000000</td>\n",
       "      <td>67.000000</td>\n",
       "      <td>90.000000</td>\n",
       "      <td>64.000000</td>\n",
       "      <td>30.000000</td>\n",
       "    </tr>\n",
       "    <tr>\n",
       "      <th>1</th>\n",
       "      <td>84</td>\n",
       "      <td>243.000000</td>\n",
       "      <td>55.000000</td>\n",
       "      <td>28.000000</td>\n",
       "      <td>70.000000</td>\n",
       "      <td>37.000000</td>\n",
       "      <td>34.000000</td>\n",
       "      <td>19.000000</td>\n",
       "      <td>123.000000</td>\n",
       "      <td>26.000000</td>\n",
       "      <td>...</td>\n",
       "      <td>17.000000</td>\n",
       "      <td>22.000000</td>\n",
       "      <td>10.000000</td>\n",
       "      <td>120.000000</td>\n",
       "      <td>29.000000</td>\n",
       "      <td>18.000000</td>\n",
       "      <td>32.000000</td>\n",
       "      <td>20.000000</td>\n",
       "      <td>12.000000</td>\n",
       "      <td>9.000000</td>\n",
       "    </tr>\n",
       "    <tr>\n",
       "      <th>2</th>\n",
       "      <td>84</td>\n",
       "      <td>1893.112206</td>\n",
       "      <td>319.155575</td>\n",
       "      <td>519.011004</td>\n",
       "      <td>346.937127</td>\n",
       "      <td>259.198657</td>\n",
       "      <td>295.470786</td>\n",
       "      <td>153.339057</td>\n",
       "      <td>995.484433</td>\n",
       "      <td>172.326260</td>\n",
       "      <td>...</td>\n",
       "      <td>127.402197</td>\n",
       "      <td>140.946341</td>\n",
       "      <td>67.457789</td>\n",
       "      <td>897.627773</td>\n",
       "      <td>146.829316</td>\n",
       "      <td>228.196459</td>\n",
       "      <td>150.399826</td>\n",
       "      <td>131.796460</td>\n",
       "      <td>154.524445</td>\n",
       "      <td>85.881268</td>\n",
       "    </tr>\n",
       "    <tr>\n",
       "      <th>3</th>\n",
       "      <td>84</td>\n",
       "      <td>3546.210164</td>\n",
       "      <td>706.686436</td>\n",
       "      <td>795.052938</td>\n",
       "      <td>737.794854</td>\n",
       "      <td>607.335319</td>\n",
       "      <td>425.641161</td>\n",
       "      <td>273.699455</td>\n",
       "      <td>1742.315872</td>\n",
       "      <td>382.606677</td>\n",
       "      <td>...</td>\n",
       "      <td>322.681441</td>\n",
       "      <td>168.173042</td>\n",
       "      <td>82.269306</td>\n",
       "      <td>1803.894292</td>\n",
       "      <td>324.079759</td>\n",
       "      <td>395.998460</td>\n",
       "      <td>350.263925</td>\n",
       "      <td>284.653879</td>\n",
       "      <td>257.468120</td>\n",
       "      <td>191.430150</td>\n",
       "    </tr>\n",
       "    <tr>\n",
       "      <th>4</th>\n",
       "      <td>84</td>\n",
       "      <td>4100.003588</td>\n",
       "      <td>801.240994</td>\n",
       "      <td>848.693971</td>\n",
       "      <td>732.298592</td>\n",
       "      <td>717.244067</td>\n",
       "      <td>591.336732</td>\n",
       "      <td>409.189232</td>\n",
       "      <td>1911.360437</td>\n",
       "      <td>401.716974</td>\n",
       "      <td>...</td>\n",
       "      <td>347.701426</td>\n",
       "      <td>235.452797</td>\n",
       "      <td>143.979846</td>\n",
       "      <td>2188.643152</td>\n",
       "      <td>399.524021</td>\n",
       "      <td>419.634896</td>\n",
       "      <td>378.848273</td>\n",
       "      <td>369.542642</td>\n",
       "      <td>355.883935</td>\n",
       "      <td>265.209386</td>\n",
       "    </tr>\n",
       "  </tbody>\n",
       "</table>\n",
       "<p>5 rows × 22 columns</p>\n",
       "</div>"
      ],
      "text/plain": [
       "   REG      P16_POP  P16_POP0014  P16_POP1529  P16_POP3044  P16_POP4559  \\\n",
       "0   84   767.000000   161.000000   102.000000   132.000000   189.000000   \n",
       "1   84   243.000000    55.000000    28.000000    70.000000    37.000000   \n",
       "2   84  1893.112206   319.155575   519.011004   346.937127   259.198657   \n",
       "3   84  3546.210164   706.686436   795.052938   737.794854   607.335319   \n",
       "4   84  4100.003588   801.240994   848.693971   732.298592   717.244067   \n",
       "\n",
       "   P16_POP6074  P16_POP75P     P16_POPH   P16_H0014  ...   P16_H4559  \\\n",
       "0   125.000000   58.000000   392.000000   84.000000  ...   99.000000   \n",
       "1    34.000000   19.000000   123.000000   26.000000  ...   17.000000   \n",
       "2   295.470786  153.339057   995.484433  172.326260  ...  127.402197   \n",
       "3   425.641161  273.699455  1742.315872  382.606677  ...  322.681441   \n",
       "4   591.336732  409.189232  1911.360437  401.716974  ...  347.701426   \n",
       "\n",
       "    P16_H6074    P16_H75P     P16_POPF   P16_F0014   P16_F1529   P16_F3044  \\\n",
       "0   61.000000   28.000000   375.000000   77.000000   47.000000   67.000000   \n",
       "1   22.000000   10.000000   120.000000   29.000000   18.000000   32.000000   \n",
       "2  140.946341   67.457789   897.627773  146.829316  228.196459  150.399826   \n",
       "3  168.173042   82.269306  1803.894292  324.079759  395.998460  350.263925   \n",
       "4  235.452797  143.979846  2188.643152  399.524021  419.634896  378.848273   \n",
       "\n",
       "    P16_F4559   P16_F6074    P16_F75P  \n",
       "0   90.000000   64.000000   30.000000  \n",
       "1   20.000000   12.000000    9.000000  \n",
       "2  131.796460  154.524445   85.881268  \n",
       "3  284.653879  257.468120  191.430150  \n",
       "4  369.542642  355.883935  265.209386  \n",
       "\n",
       "[5 rows x 22 columns]"
      ]
     },
     "execution_count": 11,
     "metadata": {},
     "output_type": "execute_result"
    }
   ],
   "source": [
    "dataREG.head()"
   ]
  },
  {
   "cell_type": "code",
   "execution_count": 12,
   "metadata": {},
   "outputs": [
    {
     "data": {
      "text/plain": [
       "REG               17\n",
       "P16_POP        25632\n",
       "P16_POP0014    41144\n",
       "P16_POP1529    40882\n",
       "P16_POP3044    41159\n",
       "P16_POP4559    41342\n",
       "P16_POP6074    41168\n",
       "P16_POP75P     40649\n",
       "P16_POPH       41807\n",
       "P16_H0014      40332\n",
       "P16_H1529      40006\n",
       "P16_H3044      40355\n",
       "P16_H4559      40532\n",
       "P16_H6074      40379\n",
       "P16_H75P       39362\n",
       "P16_POPF       41846\n",
       "P16_F0014      40239\n",
       "P16_F1529      39903\n",
       "P16_F3044      40307\n",
       "P16_F4559      40560\n",
       "P16_F6074      40408\n",
       "P16_F75P       39807\n",
       "dtype: int64"
      ]
     },
     "execution_count": 12,
     "metadata": {},
     "output_type": "execute_result"
    }
   ],
   "source": [
    "dataREG.apply(lambda x: len(x.unique()))"
   ]
  },
  {
   "cell_type": "code",
   "execution_count": 13,
   "metadata": {},
   "outputs": [
    {
     "data": {
      "text/plain": [
       "array([84, 32, 93, 44, 76, 28, 75, 24, 27, 53, 94, 52, 11,  1,  2,  3,  4])"
      ]
     },
     "execution_count": 13,
     "metadata": {},
     "output_type": "execute_result"
    }
   ],
   "source": [
    "# les régions\n",
    "dataREG['REG'].unique()"
   ]
  },
  {
   "cell_type": "code",
   "execution_count": 14,
   "metadata": {},
   "outputs": [
    {
     "data": {
      "text/plain": [
       "17"
      ]
     },
     "execution_count": 14,
     "metadata": {},
     "output_type": "execute_result"
    }
   ],
   "source": [
    "np.count_nonzero(dataREG['REG'].unique(), axis=0)"
   ]
  },
  {
   "cell_type": "markdown",
   "metadata": {},
   "source": [
    "### Checking missing values\n",
    "No data are missing!"
   ]
  },
  {
   "cell_type": "code",
   "execution_count": 15,
   "metadata": {},
   "outputs": [
    {
     "data": {
      "text/plain": [
       "REG            0.0\n",
       "P16_POP        0.0\n",
       "P16_POP0014    0.0\n",
       "P16_POP1529    0.0\n",
       "P16_POP3044    0.0\n",
       "P16_POP4559    0.0\n",
       "P16_POP6074    0.0\n",
       "P16_POP75P     0.0\n",
       "P16_POPH       0.0\n",
       "P16_H0014      0.0\n",
       "P16_H1529      0.0\n",
       "P16_H3044      0.0\n",
       "P16_H4559      0.0\n",
       "P16_H6074      0.0\n",
       "P16_H75P       0.0\n",
       "P16_POPF       0.0\n",
       "P16_F0014      0.0\n",
       "P16_F1529      0.0\n",
       "P16_F3044      0.0\n",
       "P16_F4559      0.0\n",
       "P16_F6074      0.0\n",
       "P16_F75P       0.0\n",
       "dtype: float64"
      ]
     },
     "execution_count": 15,
     "metadata": {},
     "output_type": "execute_result"
    }
   ],
   "source": [
    "dataREG.isnull().sum()/len(dataREG)*100"
   ]
  },
  {
   "cell_type": "markdown",
   "metadata": {},
   "source": [
    "### Agrégation des chiffres par région"
   ]
  },
  {
   "cell_type": "code",
   "execution_count": 16,
   "metadata": {},
   "outputs": [],
   "source": [
    "datareg = dataREG.groupby(['REG']).sum().reset_index()"
   ]
  },
  {
   "cell_type": "code",
   "execution_count": 17,
   "metadata": {},
   "outputs": [
    {
     "data": {
      "text/plain": [
       "(17, 22)"
      ]
     },
     "execution_count": 17,
     "metadata": {},
     "output_type": "execute_result"
    }
   ],
   "source": [
    "datareg.shape"
   ]
  },
  {
   "cell_type": "markdown",
   "metadata": {},
   "source": [
    "### Récupération du nom des régions"
   ]
  },
  {
   "cell_type": "code",
   "execution_count": 19,
   "metadata": {},
   "outputs": [
    {
     "ename": "KeyError",
     "evalue": "'1'",
     "output_type": "error",
     "traceback": [
      "\u001b[0;31m---------------------------------------------------------------------------\u001b[0m",
      "\u001b[0;31mKeyError\u001b[0m                                  Traceback (most recent call last)",
      "\u001b[0;32m<ipython-input-19-53a220ef9c09>\u001b[0m in \u001b[0;36m<module>\u001b[0;34m\u001b[0m\n\u001b[1;32m      3\u001b[0m \u001b[0mname\u001b[0m \u001b[0;34m=\u001b[0m \u001b[0;34m[\u001b[0m\u001b[0;34m]\u001b[0m\u001b[0;34m\u001b[0m\u001b[0;34m\u001b[0m\u001b[0m\n\u001b[1;32m      4\u001b[0m \u001b[0;32mfor\u001b[0m \u001b[0mi\u001b[0m \u001b[0;32min\u001b[0m \u001b[0mdatareg\u001b[0m\u001b[0;34m[\u001b[0m\u001b[0;34m'REG'\u001b[0m\u001b[0;34m]\u001b[0m\u001b[0;34m:\u001b[0m\u001b[0;34m\u001b[0m\u001b[0;34m\u001b[0m\u001b[0m\n\u001b[0;32m----> 5\u001b[0;31m     \u001b[0mname\u001b[0m\u001b[0;34m.\u001b[0m\u001b[0mappend\u001b[0m\u001b[0;34m(\u001b[0m\u001b[0mdata\u001b[0m\u001b[0;34m[\u001b[0m\u001b[0mi\u001b[0m\u001b[0;34m]\u001b[0m\u001b[0;34m)\u001b[0m\u001b[0;34m\u001b[0m\u001b[0;34m\u001b[0m\u001b[0m\n\u001b[0m\u001b[1;32m      6\u001b[0m \u001b[0;31m# print(name)\u001b[0m\u001b[0;34m\u001b[0m\u001b[0;34m\u001b[0m\u001b[0;34m\u001b[0m\u001b[0m\n\u001b[1;32m      7\u001b[0m \u001b[0;31m# inclusion des noms dans une nouvelle colonne\u001b[0m\u001b[0;34m\u001b[0m\u001b[0;34m\u001b[0m\u001b[0;34m\u001b[0m\u001b[0m\n",
      "\u001b[0;32m~/anaconda3/lib/python3.6/site-packages/pandas/core/series.py\u001b[0m in \u001b[0;36m__getitem__\u001b[0;34m(self, key)\u001b[0m\n\u001b[1;32m   1069\u001b[0m         \u001b[0mkey\u001b[0m \u001b[0;34m=\u001b[0m \u001b[0mcom\u001b[0m\u001b[0;34m.\u001b[0m\u001b[0mapply_if_callable\u001b[0m\u001b[0;34m(\u001b[0m\u001b[0mkey\u001b[0m\u001b[0;34m,\u001b[0m \u001b[0mself\u001b[0m\u001b[0;34m)\u001b[0m\u001b[0;34m\u001b[0m\u001b[0;34m\u001b[0m\u001b[0m\n\u001b[1;32m   1070\u001b[0m         \u001b[0;32mtry\u001b[0m\u001b[0;34m:\u001b[0m\u001b[0;34m\u001b[0m\u001b[0;34m\u001b[0m\u001b[0m\n\u001b[0;32m-> 1071\u001b[0;31m             \u001b[0mresult\u001b[0m \u001b[0;34m=\u001b[0m \u001b[0mself\u001b[0m\u001b[0;34m.\u001b[0m\u001b[0mindex\u001b[0m\u001b[0;34m.\u001b[0m\u001b[0mget_value\u001b[0m\u001b[0;34m(\u001b[0m\u001b[0mself\u001b[0m\u001b[0;34m,\u001b[0m \u001b[0mkey\u001b[0m\u001b[0;34m)\u001b[0m\u001b[0;34m\u001b[0m\u001b[0;34m\u001b[0m\u001b[0m\n\u001b[0m\u001b[1;32m   1072\u001b[0m \u001b[0;34m\u001b[0m\u001b[0m\n\u001b[1;32m   1073\u001b[0m             \u001b[0;32mif\u001b[0m \u001b[0;32mnot\u001b[0m \u001b[0mis_scalar\u001b[0m\u001b[0;34m(\u001b[0m\u001b[0mresult\u001b[0m\u001b[0;34m)\u001b[0m\u001b[0;34m:\u001b[0m\u001b[0;34m\u001b[0m\u001b[0;34m\u001b[0m\u001b[0m\n",
      "\u001b[0;32m~/anaconda3/lib/python3.6/site-packages/pandas/core/indexes/base.py\u001b[0m in \u001b[0;36mget_value\u001b[0;34m(self, series, key)\u001b[0m\n\u001b[1;32m   4728\u001b[0m         \u001b[0mk\u001b[0m \u001b[0;34m=\u001b[0m \u001b[0mself\u001b[0m\u001b[0;34m.\u001b[0m\u001b[0m_convert_scalar_indexer\u001b[0m\u001b[0;34m(\u001b[0m\u001b[0mk\u001b[0m\u001b[0;34m,\u001b[0m \u001b[0mkind\u001b[0m\u001b[0;34m=\u001b[0m\u001b[0;34m\"getitem\"\u001b[0m\u001b[0;34m)\u001b[0m\u001b[0;34m\u001b[0m\u001b[0;34m\u001b[0m\u001b[0m\n\u001b[1;32m   4729\u001b[0m         \u001b[0;32mtry\u001b[0m\u001b[0;34m:\u001b[0m\u001b[0;34m\u001b[0m\u001b[0;34m\u001b[0m\u001b[0m\n\u001b[0;32m-> 4730\u001b[0;31m             \u001b[0;32mreturn\u001b[0m \u001b[0mself\u001b[0m\u001b[0;34m.\u001b[0m\u001b[0m_engine\u001b[0m\u001b[0;34m.\u001b[0m\u001b[0mget_value\u001b[0m\u001b[0;34m(\u001b[0m\u001b[0ms\u001b[0m\u001b[0;34m,\u001b[0m \u001b[0mk\u001b[0m\u001b[0;34m,\u001b[0m \u001b[0mtz\u001b[0m\u001b[0;34m=\u001b[0m\u001b[0mgetattr\u001b[0m\u001b[0;34m(\u001b[0m\u001b[0mseries\u001b[0m\u001b[0;34m.\u001b[0m\u001b[0mdtype\u001b[0m\u001b[0;34m,\u001b[0m \u001b[0;34m\"tz\"\u001b[0m\u001b[0;34m,\u001b[0m \u001b[0;32mNone\u001b[0m\u001b[0;34m)\u001b[0m\u001b[0;34m)\u001b[0m\u001b[0;34m\u001b[0m\u001b[0;34m\u001b[0m\u001b[0m\n\u001b[0m\u001b[1;32m   4731\u001b[0m         \u001b[0;32mexcept\u001b[0m \u001b[0mKeyError\u001b[0m \u001b[0;32mas\u001b[0m \u001b[0me1\u001b[0m\u001b[0;34m:\u001b[0m\u001b[0;34m\u001b[0m\u001b[0;34m\u001b[0m\u001b[0m\n\u001b[1;32m   4732\u001b[0m             \u001b[0;32mif\u001b[0m \u001b[0mlen\u001b[0m\u001b[0;34m(\u001b[0m\u001b[0mself\u001b[0m\u001b[0;34m)\u001b[0m \u001b[0;34m>\u001b[0m \u001b[0;36m0\u001b[0m \u001b[0;32mand\u001b[0m \u001b[0;34m(\u001b[0m\u001b[0mself\u001b[0m\u001b[0;34m.\u001b[0m\u001b[0mholds_integer\u001b[0m\u001b[0;34m(\u001b[0m\u001b[0;34m)\u001b[0m \u001b[0;32mor\u001b[0m \u001b[0mself\u001b[0m\u001b[0;34m.\u001b[0m\u001b[0mis_boolean\u001b[0m\u001b[0;34m(\u001b[0m\u001b[0;34m)\u001b[0m\u001b[0;34m)\u001b[0m\u001b[0;34m:\u001b[0m\u001b[0;34m\u001b[0m\u001b[0;34m\u001b[0m\u001b[0m\n",
      "\u001b[0;32mpandas/_libs/index.pyx\u001b[0m in \u001b[0;36mpandas._libs.index.IndexEngine.get_value\u001b[0;34m()\u001b[0m\n",
      "\u001b[0;32mpandas/_libs/index.pyx\u001b[0m in \u001b[0;36mpandas._libs.index.IndexEngine.get_value\u001b[0;34m()\u001b[0m\n",
      "\u001b[0;32mpandas/_libs/index.pyx\u001b[0m in \u001b[0;36mpandas._libs.index.IndexEngine.get_loc\u001b[0;34m()\u001b[0m\n",
      "\u001b[0;32mpandas/_libs/index_class_helper.pxi\u001b[0m in \u001b[0;36mpandas._libs.index.Int64Engine._check_type\u001b[0;34m()\u001b[0m\n",
      "\u001b[0;31mKeyError\u001b[0m: '1'"
     ]
    }
   ],
   "source": [
    "data = pd.read_json('IRIS_population/areas_REGfr.json', typ='series')\n",
    "\n",
    "name = []\n",
    "for i in datareg['REG']:\n",
    "    name.append(data[i])\n",
    "# print(name)\n",
    "# inclusion des noms dans une nouvelle colonne\n",
    "datareg['LIBREG'] = name"
   ]
  },
  {
   "cell_type": "code",
   "execution_count": null,
   "metadata": {},
   "outputs": [],
   "source": [
    "datareg[['REG','LIBREG']]"
   ]
  },
  {
   "cell_type": "code",
   "execution_count": 20,
   "metadata": {},
   "outputs": [
    {
     "data": {
      "text/plain": [
       "array([<class 'str'>], dtype=object)"
      ]
     },
     "execution_count": 20,
     "metadata": {},
     "output_type": "execute_result"
    }
   ],
   "source": [
    "# verification de types de données 'REG'\n",
    "datareg['REG'].apply(type).unique()"
   ]
  },
  {
   "cell_type": "code",
   "execution_count": 18,
   "metadata": {},
   "outputs": [],
   "source": [
    "# conversion des REG 'int' en 'str'\n",
    "datareg['REG'] = datareg['REG'].astype(str)"
   ]
  },
  {
   "cell_type": "code",
   "execution_count": null,
   "metadata": {},
   "outputs": [],
   "source": [
    "datareg.to_csv('IRIS_population/REG_population_France.csv', index=False)"
   ]
  },
  {
   "cell_type": "code",
   "execution_count": null,
   "metadata": {},
   "outputs": [],
   "source": [
    "print(\"\\nTotal Population hors Mayotte :\", \"{:,.2f}\".format(datareg['P16_POP'].sum()),\n",
    "      \"\\nTotal Hommes hors Mayotte :\", \"{:,.2f}\".format(datareg['P16_POPH'].sum()),\n",
    "      \"\\nTotal Femmes hors Mayotte :\", \"{:,.2f}\".format(datareg['P16_POPF'].sum()),\n",
    "      \"\\n\\nPopulation par REG\")"
   ]
  },
  {
   "cell_type": "code",
   "execution_count": null,
   "metadata": {},
   "outputs": [],
   "source": []
  }
 ],
 "metadata": {
  "kernelspec": {
   "display_name": "Python 3",
   "language": "python",
   "name": "python3"
  },
  "language_info": {
   "codemirror_mode": {
    "name": "ipython",
    "version": 3
   },
   "file_extension": ".py",
   "mimetype": "text/x-python",
   "name": "python",
   "nbconvert_exporter": "python",
   "pygments_lexer": "ipython3",
   "version": "3.6.8"
  }
 },
 "nbformat": 4,
 "nbformat_minor": 2
}
