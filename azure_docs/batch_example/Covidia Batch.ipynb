{
 "cells": [
  {
   "cell_type": "code",
   "execution_count": null,
   "metadata": {},
   "outputs": [],
   "source": [
    "# useful for development to reload modules everytime we run code\n",
    "%load_ext autoreload\n",
    "%autoreload 2"
   ]
  },
  {
   "cell_type": "markdown",
   "metadata": {},
   "source": [
    "## Imports\n",
    "If any errors in imports, then execute the following package installs and execute the imports again:\n",
    "\n",
    "pip install -r requirements.txt -U"
   ],
   "execution_count": null,
   "outputs": []
  },
  {
   "cell_type": "code",
   "execution_count": null,
   "metadata": {},
   "outputs": [],
   "source": [
    "# general imports\n",
    "from pprint import pprint\n",
    "import io, os, sys, time, json, uuid, glob\n",
    "from datetime import datetime, timedelta\n",
    "from dotenv import load_dotenv\n",
    "\n",
    "# azure batch\n",
    "import azure.batch.batch_auth as batchauth\n",
    "import azure.batch._batch_service_client as batch\n",
    "import azure.batch.models as batchmodels\n",
    "\n",
    "# azure storage\n",
    "import azure.storage.blob as azureblob"
   ]
  },
  {
   "cell_type": "markdown",
   "metadata": {},
   "source": [
    "## Loading Configuration\n",
    "Before executing, make sure you create a .env file with the following format:\n",
    "\n",
    "```\n",
    "BATCH_SERVICE_URL=<batch_service_url>\n",
    "BATCH_ACCOUNT_NAME=<batch_account_name>\n",
    "BATCH_ACCOUNT_KEY=<batch_account_key>\n",
    "BATCH_STORAGE_ACCOUNT_NAME=<storage_account_name>\n",
    "BATCH_STORAGE_ACCOUNT_KEY=<storage_account_key>\n",
    "```\n",
    "\n",
    "This .env file is not added on the repo to avoid surfacing sensitive data."
   ],
   "execution_count": null,
   "outputs": []
  },
  {
   "cell_type": "code",
   "execution_count": null,
   "metadata": {},
   "outputs": [],
   "source": [
    "load_dotenv()\n",
    "\n",
    "batch_service_url = os.getenv(\"BATCH_SERVICE_URL\")\n",
    "batch_account_name = os.getenv(\"BATCH_ACCOUNT_NAME\")\n",
    "batch_account_key = os.getenv(\"BATCH_ACCOUNT_KEY\")\n",
    "storage_account_name = os.getenv(\"BATCH_STORAGE_ACCOUNT_NAME\")\n",
    "storage_account_key = os.getenv(\"BATCH_STORAGE_ACCOUNT_KEY\")\n",
    "\n",
    "print(batch_service_url)"
   ]
  },
  {
   "cell_type": "markdown",
   "metadata": {},
   "source": [
    "## Create Clients"
   ],
   "execution_count": null,
   "outputs": []
  },
  {
   "cell_type": "code",
   "execution_count": null,
   "metadata": {},
   "outputs": [],
   "source": [
    "# create the batch client to create pools, jobs and tasks on Azure Batch\n",
    "credentials = batchauth.SharedKeyCredentials(\n",
    "       batch_account_name,\n",
    "       batch_account_key)\n",
    "\n",
    "batch_client = batch.BatchServiceClient(\n",
    "        credentials,\n",
    "        batch_url=batch_service_url)\n",
    "\n",
    "# Create the blob client, for use in obtaining references to\n",
    "# blob storage containers and uploading files to containers.\n",
    "blob_client = azureblob.BlockBlobService(\n",
    "    account_name = storage_account_name,\n",
    "    account_key = storage_account_key)"
   ]
  },
  {
   "cell_type": "markdown",
   "metadata": {},
   "source": [
    "## Create Storage Containers\n",
    "This will create an application container to hold the application files that will be downloaded by the batch nodes.\n",
    "Additionally it will create an input and output container to store any input files to feed to each task and to collect the output of the tasks"
   ],
   "execution_count": null,
   "outputs": []
  },
  {
   "cell_type": "code",
   "execution_count": null,
   "metadata": {},
   "outputs": [],
   "source": [
    "# Use the blob client to create the containers in Azure Storage if they\n",
    "# don't yet exist.\n",
    "app_container_name = \"application\"\n",
    "input_container_name = \"input\"\n",
    "output_container_name = \"output\"\n",
    "\n",
    "blob_client.create_container(app_container_name, fail_on_exist=False)\n",
    "blob_client.create_container(input_container_name, fail_on_exist=False)\n",
    "blob_client.create_container(output_container_name, fail_on_exist=False)\n",
    "\n",
    "print(\"Containers in Storage Account:\")\n",
    "\n",
    "for c in blob_client.list_containers():\n",
    "    print(\"\\t\",c.name)"
   ]
  },
  {
   "cell_type": "markdown",
   "metadata": {},
   "source": [
    "## Helper Azure Storage Methods"
   ],
   "execution_count": null,
   "outputs": []
  },
  {
   "cell_type": "code",
   "execution_count": null,
   "metadata": {},
   "outputs": [],
   "source": [
    "def upload_blob_and_create_sas(block_blob_client, container_name, file_name, blob_name, hours=24):\n",
    "\n",
    "    block_blob_client.create_container(\n",
    "        container_name,\n",
    "        fail_on_exist=False)\n",
    "\n",
    "    block_blob_client.create_blob_from_path(\n",
    "        container_name,\n",
    "        blob_name,\n",
    "        file_name)\n",
    "\n",
    "    print(\"Uploaded\", file_name, \"to container\", container_name)\n",
    "\n",
    "    expiry = datetime.utcnow() + timedelta(hours=hours)\n",
    "    sas_token = block_blob_client.generate_blob_shared_access_signature(\n",
    "        container_name,\n",
    "        blob_name,\n",
    "        permission=azureblob.BlobPermissions.READ,\n",
    "        expiry=expiry)\n",
    "\n",
    "    sas_url = block_blob_client.make_blob_url(\n",
    "        container_name,\n",
    "        blob_name,\n",
    "        sas_token=sas_token)\n",
    "\n",
    "    return sas_url\n",
    "\n",
    "def create_container_sas_token(block_blob_client, container_name, permission, hours=24):\n",
    " \n",
    "    expiry = datetime.utcnow() + timedelta(hours=hours)\n",
    "    sas_token = block_blob_client.generate_container_shared_access_signature(\n",
    "        container_name, permission=permission, expiry=expiry)\n",
    "\n",
    "    valid_sas_url = \"https://{}.blob.core.windows.net/{}?{}\".format(\n",
    "        block_blob_client.account_name, container_name, sas_token\n",
    "    )\n",
    "    \n",
    "    return valid_sas_url"
   ]
  },
  {
   "cell_type": "markdown",
   "metadata": {},
   "source": [
    "## Copying app files to app container\n",
    "This step will zip the files in the app_dir folder and upload the zip package to the application container created in the previous step. We will also generate a script file to install Python on the Batch nodes"
   ]
  },
  {
   "cell_type": "code",
   "execution_count": 8,
   "metadata": {},
   "outputs": [],
   "source": [
    "# folder to be zipped\n",
    "app_dir = \"sample_application\"\n",
    "# zip file name\n",
    "app_package_file_name = \"app.tar.gz\"\n",
    "# python install script\n",
    "setup_file_name = \"installPython.sh\"\n",
    "# folder to store the zipped file and install script\n",
    "resource_folder = \"batch_resources\""
   ]
  },
  {
   "cell_type": "code",
   "execution_count": 9,
   "metadata": {},
   "outputs": [
    {
     "output_type": "stream",
     "name": "stdout",
     "text": "total 20\ndrwxrwxr-x 3 quick quick 4096 Apr 14 21:34 .\ndrwxrwxr-x 6 quick quick 4096 Apr 14 23:27 ..\n-rw-rw-r-- 1 quick quick 1333 Apr 14 21:37 main.py\n-rw-rw-r-- 1 quick quick    6 Apr 14 17:03 requirements.txt\ndrwxrwxr-x 3 quick quick 4096 Apr 14 11:10 sample_utils\nmkdir: cannot create directory ‘batch_resources’: File exists\nzipping application\n"
    }
   ],
   "source": [
    "# zip the application and copy zip file to resource folder\n",
    "!ls -la $app_dir\n",
    "!mkdir $resource_folder\n",
    "!echo zipping application\n",
    "!tar czf $resource_folder/app.tar.gz -C ./$app_dir/ ."
   ]
  },
  {
   "cell_type": "markdown",
   "metadata": {},
   "source": [
    "This next cell creates the Python setup script for Ubuntu nodes"
   ],
   "execution_count": null,
   "outputs": []
  },
  {
   "cell_type": "code",
   "execution_count": 10,
   "metadata": {},
   "outputs": [
    {
     "output_type": "stream",
     "name": "stdout",
     "text": "Overwriting batch_resources/installPython.sh\n"
    }
   ],
   "source": [
    "%%writefile $resource_folder/$setup_file_name\n",
    "sudo apt-get update\n",
    "sudo su\n",
    "apt-get install python3.6\n",
    "apt-get install -y python3-pip"
   ]
  },
  {
   "cell_type": "code",
   "execution_count": null,
   "metadata": {},
   "outputs": [],
   "source": [
    "# get file paths for upload\n",
    "app_file_path = os.path.join(resource_folder, app_package_file_name)\n",
    "setup_file_path = os.path.join(resource_folder, setup_file_name)\n",
    "\n",
    "# upload application package file to application container\n",
    "appFileSas = upload_blob_and_create_sas(blob_client, app_container_name, app_file_path, app_package_file_name)\n",
    "print(appFileSas)\n",
    "\n",
    "# upload install script to application container\n",
    "setupFileSas = upload_blob_and_create_sas(blob_client, app_container_name, setup_file_path, setup_file_name)\n",
    "print(setupFileSas)"
   ]
  },
  {
   "cell_type": "markdown",
   "metadata": {},
   "source": [
    "## Creating Azure Batch Pool\n",
    "A pool is the central compute resource for Azure Batch. It's composed of several machines that will be assigned tasks once a job is created.\n",
    "In here, we setup a pool of Ubuntu nodes and create a start task to make sure Python is installed. As machines get added to the pool, this task will imediately run before any tasks are assigned to the nodes."
   ],
   "execution_count": null,
   "outputs": []
  },
  {
   "cell_type": "code",
   "execution_count": null,
   "metadata": {},
   "outputs": [],
   "source": [
    "# let's read the configuration\n",
    "settings_file = \"batch_settings.json\"\n",
    "\n",
    "with open(settings_file) as f:\n",
    "    settings = json.load(f)\n",
    "\n",
    "pprint(settings, indent=2)"
   ]
  },
  {
   "cell_type": "markdown",
   "metadata": {},
   "source": [
    "### Defining a StartTask\n",
    "Runs on all nodes on startup. This will reference the install script to make sure Python is installed on each node\n",
    "\n",
    "Note:\n",
    "*To enable detailed monitoring of pool nodes, we have to setup Application Insights as detailed here: https://github.com/Azure/batch-insights. This is not required but it's a good way to understand if we can run more tasks in paralel inside the same node. This requires setting up 3 environment variables on the pool start task. In this notebook we are setting the variables but we are not enabling app insights by default because it causes a significant spike in node start time (a few minutes compared to a few seconds). This won't be relevant in a real scenario where a job takes significant more time to run than the startup time of the pool, but in this demo it has a noticeable impact.*"
   ]
  },
  {
   "cell_type": "code",
   "execution_count": null,
   "metadata": {},
   "outputs": [],
   "source": [
    "# setting up app insights related environment variables in task\n",
    "env_variables = list()\n",
    "env_variables.append(batchmodels.EnvironmentSetting(name=\"APP_INSIGHTS_INSTRUMENTATION_KEY\", value=\"d5c240e1-1a2e-4e69-b5fd-9009627f03ec\"))\n",
    "env_variables.append(batchmodels.EnvironmentSetting(name=\"APP_INSIGHTS_APP_ID\", value=\"c32ac08b-472e-4128-b245-62c3ed03a8a5\"))\n",
    "env_variables.append(batchmodels.EnvironmentSetting(name=\"BATCH_INSIGHTS_DOWNLOAD_URL\", value=\"https://github.com/Azure/batch-insights/releases/download/v1.3.0/batch-insights\"))                                     \n",
    "\n",
    "# notice we could use this to setup any environment variables that the task would need."
   ]
  },
  {
   "cell_type": "code",
   "execution_count": null,
   "metadata": {},
   "outputs": [],
   "source": [
    "# create an elevated identity to run the start task - needed whenever you require sudo access\n",
    "user = batchmodels.AutoUserSpecification(scope=batchmodels.AutoUserScope.pool, elevation_level=batchmodels.ElevationLevel.admin)\n",
    "user_identity = batchmodels.UserIdentity(auto_user=user)   \n",
    "\n",
    "# setup the task command - executing the shell script that install python. \n",
    "command_line = f\"/bin/bash -c \\\"sudo sh {setup_file_name}\\\"\"\n",
    "\n",
    "# alternative command line to setup application insights - uncomment this to enable app insights\n",
    "#command_line = f\"/bin/bash -c \\\"sudo sh {setup_file_name} && wget -O - https://raw.githubusercontent.com/Azure/batch-insights/master/scripts/run-linux.sh | bash \\\"\"\n",
    "\n",
    "# setup the start task\n",
    "startTask = batchmodels.StartTask(\n",
    "        command_line=command_line,\n",
    "        wait_for_success = True,\n",
    "        user_identity = user_identity,\n",
    "        environment_settings=env_variables,\n",
    "        resource_files = [batchmodels.ResourceFile(\n",
    "                         file_path = setup_file_name,\n",
    "                         http_url = setupFileSas)])\n",
    "\n",
    "print(\"Start task:\")\n",
    "print(f\"CommandLine: {command_line}\")\n",
    "print(f\"ResourceFiles:\")\n",
    "for f in startTask.resource_files:\n",
    "    print(f\"\\t{f.http_url}\")"
   ]
  },
  {
   "cell_type": "markdown",
   "metadata": {},
   "source": [
    "### Creating the Pool"
   ],
   "execution_count": null,
   "outputs": []
  },
  {
   "cell_type": "code",
   "execution_count": null,
   "metadata": {},
   "outputs": [],
   "source": [
    "# checking configuration\n",
    "poolId = settings[\"poolId\"]\n",
    "vmSize = settings[\"vmSize\"]\n",
    "dedicatedNodes = settings[\"dedicatedVmCount\"]\n",
    "lowPriorityNodes = settings[\"lowPriorityVmCount\"]\n",
    "\n",
    "print(f\"Creating pool {poolId} with:\")\n",
    "print(\"Size:\",vmSize)\n",
    "print(\"Number of dedicated nodes:\",dedicatedNodes)\n",
    "print(\"Number of low priority nodes:\",lowPriorityNodes)"
   ]
  },
  {
   "cell_type": "code",
   "execution_count": null,
   "metadata": {},
   "outputs": [],
   "source": [
    "# setup pool\n",
    "pool = batchmodels.PoolAddParameter(\n",
    "    id=poolId,\n",
    "    virtual_machine_configuration=batchmodels.VirtualMachineConfiguration(\n",
    "        image_reference=batchmodels.ImageReference(\n",
    "            publisher=\"Canonical\",\n",
    "            offer=\"UbuntuServer\",\n",
    "            sku=\"18.04-LTS\",\n",
    "            version=\"latest\"\n",
    "        ),\n",
    "        node_agent_sku_id=\"batch.node.ubuntu 18.04\"),\n",
    "    vm_size=vmSize,\n",
    "    target_dedicated_nodes=dedicatedNodes,\n",
    "    target_low_priority_nodes=lowPriorityNodes,\n",
    "    start_task=startTask)\n",
    "\n",
    "# create pool\n",
    "try:\n",
    "    print(\"Attempting to create pool:\", pool.id)\n",
    "    batch_client.pool.add(pool)\n",
    "    print(\"Created pool:\", pool.id)\n",
    "except batchmodels.BatchErrorException as e:\n",
    "    if e.error.code != \"PoolExists\":\n",
    "        raise\n",
    "    else:\n",
    "        print(\"Pool {!r} already exists\".format(pool.id))"
   ]
  },
  {
   "cell_type": "code",
   "execution_count": null,
   "metadata": {},
   "outputs": [],
   "source": [
    "def wait_for_all_nodes_state(batch_client, pool, node_state):\n",
    "    print('Waiting for all nodes in pool {} to reach one of: {!r}\\n'.format(\n",
    "        pool.id, node_state))\n",
    "    i = 0\n",
    "    targetNodes = pool.target_dedicated_nodes + pool.target_low_priority_nodes\n",
    "    while True:\n",
    "        # refresh pool to ensure that there is no resize error\n",
    "        pool = batch_client.pool.get(pool.id)\n",
    "        if pool.resize_errors is not None:\n",
    "            resize_errors = \"\\n\".join([repr(e) for e in pool.resize_errors])\n",
    "            raise RuntimeError(\n",
    "                'resize error encountered for pool {}:\\n{}'.format(\n",
    "                    pool.id, resize_errors))\n",
    "        nodes = list(batch_client.compute_node.list(pool.id))\n",
    "        if (len(nodes) >= targetNodes and\n",
    "                all(node.state in node_state for node in nodes)):\n",
    "            return nodes\n",
    "        i += 1\n",
    "        if i % 3 == 0:\n",
    "            print('waiting for {} nodes to reach desired state...'.format(\n",
    "                targetNodes))\n",
    "        time.sleep(10)\n",
    "\n",
    "# we check if all nodes are up before we continue\n",
    "nodes = wait_for_all_nodes_state(batch_client, pool, [batchmodels.ComputeNodeState.idle, batchmodels.ComputeNodeState.running])\n",
    "\n",
    "# show all nodes\n",
    "for n in nodes:\n",
    "    print(n.id, n.state, n.is_dedicated)"
   ]
  },
  {
   "cell_type": "markdown",
   "metadata": {},
   "source": [
    "## Creating a Job to run on the Pool\n",
    "We will now create a job and an associated Prep task to ensure the application is downloaded, extracted to a known location and all python packages are installed via pip"
   ],
   "execution_count": null,
   "outputs": []
  },
  {
   "cell_type": "code",
   "execution_count": null,
   "metadata": {},
   "outputs": [],
   "source": [
    "# creating a unique job Id\n",
    "job_id = settings[\"jobIdPrefix\"] + \"_\" + datetime.now().strftime(\"%Y-%m-%d_%H-%M\")\n",
    "\n",
    "# setup the task command\n",
    "command_line = f\"/bin/bash -c \\\"cd $AZ_BATCH_NODE_SHARED_DIR && tar -xvf $AZ_BATCH_JOB_PREP_WORKING_DIR/{app_package_file_name} && sudo su && pip3 install -r requirements.txt \\\"\"\n",
    "\n",
    "# create an elevated identity to run the start task\n",
    "user = batchmodels.AutoUserSpecification(scope=batchmodels.AutoUserScope.pool, elevation_level=batchmodels.ElevationLevel.admin)\n",
    "user_identity = batchmodels.UserIdentity(auto_user=user)   \n",
    "\n",
    "# setup the start task\n",
    "jobTask = batchmodels.JobPreparationTask(\n",
    "        command_line = command_line,\n",
    "        user_identity = user_identity,\n",
    "        wait_for_success = True,\n",
    "        resource_files = [batchmodels.ResourceFile(\n",
    "                         file_path = app_package_file_name,\n",
    "                         http_url = appFileSas)])\n",
    "\n",
    "print(\"Job Preparation task:\")\n",
    "print(f\"CommandLine: {command_line}\")\n",
    "print(f\"ResourceFiles:\")\n",
    "for f in jobTask.resource_files:\n",
    "    print(f\"\\t{f.http_url}\")"
   ]
  },
  {
   "cell_type": "code",
   "execution_count": null,
   "metadata": {},
   "outputs": [],
   "source": [
    "# setup job\n",
    "job = batchmodels.JobAddParameter(\n",
    "    id=job_id,\n",
    "    pool_info=batchmodels.PoolInformation(pool_id=pool.id),\n",
    "    job_preparation_task = jobTask)\n",
    "\n",
    "# create job\n",
    "print('Creating job [{}]...'.format(job.id))\n",
    "\n",
    "try:\n",
    "    batch_client.job.add(job)\n",
    "except batchmodels.batch_error.BatchErrorException as err:\n",
    "    print_batch_exception(err)\n",
    "    if err.error.code != \"JobExists\":\n",
    "        raise\n",
    "    else:\n",
    "        print(\"Job {!r} already exists\".format(job_id))"
   ]
  },
  {
   "cell_type": "markdown",
   "metadata": {},
   "source": [
    "## Adding Tasks to the Job\n",
    "Now that our application is correctly configured and we made sure Python is installed in all nodes, we need to setup a task to run a work item. We can launch many tasks inside the same job and Azure Batch will assign it to any VMs in the pool.\n",
    "\n",
    "In this example, we will create as many tasks as files in input_data (a local folder in this repo). This is a simple way of doing paralel processing of a large file when splits can be done. Another option is simple iterating over an array of parameter values and creating a task for each different value. We illustrate here the most complicated scenario which involves passing different input files to the script and uploading those files to the input container in the storage account.\n",
    "\n",
    "These tasks also write output to storage. The main.py script writes an output file and we configure the task to upload these files to the output container we created earlier. It is done after the task ends successfully"
   ],
   "execution_count": null,
   "outputs": []
  },
  {
   "cell_type": "code",
   "execution_count": null,
   "metadata": {},
   "outputs": [],
   "source": [
    "# get a sas url for write access to output container. This will be used so we can persist task output files\n",
    "output_container_sas = create_container_sas_token(blob_client, container_name=output_container_name, permission=azureblob.BlobPermissions.WRITE)\n",
    "print(output_container_sas)"
   ]
  },
  {
   "cell_type": "code",
   "execution_count": null,
   "metadata": {},
   "outputs": [],
   "source": [
    "# we get a list of input files\n",
    "file_list = glob.glob(\"input_data/*.dat\")\n",
    "\n",
    "# initialize task counter\n",
    "i = 0\n",
    "for f in file_list:\n",
    "    # increment task counter\n",
    "    i = i + 1\n",
    "    \n",
    "    # create a task id\n",
    "    task_id = \"Process-\" + str(i)\n",
    "    print(\"\\nCreating task\",task_id)\n",
    "    \n",
    "    # grab file name\n",
    "    input_file = f.split(\"/\")[-1:][0]\n",
    "    output_file = input_file.replace(\".dat\",\"_output.csv\")\n",
    "    \n",
    "    # upload file to azure storage\n",
    "    input_file_sas = upload_blob_and_create_sas(blob_client, input_container_name, f, input_file)\n",
    "    \n",
    "    # setup task command\n",
    "    taskCommand = f\"/bin/bash -c \\\"cd $AZ_BATCH_NODE_SHARED_DIR && python3 main.py -i $AZ_BATCH_TASK_WORKING_DIR/{input_file} -o $AZ_BATCH_TASK_WORKING_DIR/{output_file}\\\"\"\n",
    "    print(taskCommand)\n",
    "    \n",
    "    # create an elevated identity to run the start task\n",
    "    user = batchmodels.AutoUserSpecification(scope=batchmodels.AutoUserScope.pool, elevation_level=batchmodels.ElevationLevel.admin)\n",
    "    user_identity = batchmodels.UserIdentity(auto_user=user)   \n",
    "   \n",
    "    # setup output files destination\n",
    "    containerDest = batchmodels.OutputFileBlobContainerDestination(container_url = output_container_sas, path = task_id)\n",
    "    outputFileDestination = batchmodels.OutputFileDestination(container = containerDest)\n",
    "    \n",
    "    # setup output files upload condition\n",
    "    uploadCondition = batchmodels.OutputFileUploadCondition.task_success\n",
    "    uploadOptions = batchmodels.OutputFileUploadOptions(upload_condition = uploadCondition)\n",
    "    \n",
    "    # output files\n",
    "    output_files = [batchmodels.OutputFile(destination = outputFileDestination,\n",
    "                                        upload_options = uploadOptions,\n",
    "                                        file_pattern=\"*output.csv\")]\n",
    "    \n",
    "    \n",
    "    # create task\n",
    "    task = batchmodels.TaskAddParameter(\n",
    "    id = task_id,\n",
    "    command_line=taskCommand,\n",
    "    user_identity=user_identity,\n",
    "    resource_files=[batchmodels.ResourceFile(\n",
    "                        file_path=input_file,\n",
    "                        http_url=input_file_sas)],\n",
    "    output_files=output_files)\n",
    "    \n",
    "    \n",
    "    batch_client.task.add(job_id=job.id, task=task)"
   ]
  },
  {
   "cell_type": "markdown",
   "metadata": {},
   "source": [
    "## Monitoring Tasks"
   ],
   "execution_count": null,
   "outputs": []
  },
  {
   "cell_type": "code",
   "execution_count": null,
   "metadata": {},
   "outputs": [],
   "source": [
    "def wait_for_tasks_to_complete(batch_client, job_id, timeout):\n",
    "\n",
    "    time_to_timeout_at = datetime.now() + timeout\n",
    "\n",
    "    while datetime.now() < time_to_timeout_at:\n",
    "        print(\"Checking if all tasks are complete...\")\n",
    "        tasks = batch_client.task.list(job_id)\n",
    "\n",
    "        incomplete_tasks = [task for task in tasks if\n",
    "                            task.state != batchmodels.TaskState.completed]\n",
    "        if not incomplete_tasks:\n",
    "            return\n",
    "        time.sleep(30)\n",
    "\n",
    "    raise TimeoutError(\"Timed out waiting for tasks to complete\")\n",
    "\n",
    "wait_for_tasks_to_complete(batch_client, job.id, timedelta(minutes=60))\n",
    "print(\"All Tasks Complete!\")"
   ]
  },
  {
   "cell_type": "markdown",
   "metadata": {},
   "source": [
    "### Helper functions to read task output directly"
   ],
   "execution_count": null,
   "outputs": []
  },
  {
   "cell_type": "code",
   "execution_count": null,
   "metadata": {},
   "outputs": [],
   "source": [
    "def read_stream_as_string(stream, encoding):\n",
    "    output = io.BytesIO()\n",
    "    try:\n",
    "        for data in stream:\n",
    "            output.write(data)\n",
    "        if encoding is None:\n",
    "            encoding = 'utf-8'\n",
    "        return output.getvalue().decode(encoding)\n",
    "    finally:\n",
    "        output.close()\n",
    "    raise RuntimeError('could not write data to stream or decode bytes')\n",
    "\n",
    "def read_task_file_as_string(batch_client, job_id, task_id, file_name, encoding=None):\n",
    "    stream = batch_client.file.get_from_task(job_id, task_id, file_name)\n",
    "    return read_stream_as_string(stream, encoding)\n",
    "\n",
    "def print_task_output(batch_client, job_id, task_ids, encoding=None):\n",
    "    _STANDARD_OUT_FILE_NAME = 'stdout.txt'\n",
    "    _STANDARD_ERROR_FILE_NAME = 'stderr.txt'\n",
    "    \n",
    "    for task_id in task_ids:\n",
    "        file_text = read_task_file_as_string(\n",
    "            batch_client,\n",
    "            job_id,\n",
    "            task_id,\n",
    "            _STANDARD_OUT_FILE_NAME,\n",
    "            encoding)\n",
    "        print(\"{} content for task {}: \".format(\n",
    "            _STANDARD_OUT_FILE_NAME,\n",
    "            task_id))\n",
    "        print(file_text)\n",
    "\n",
    "        file_text = read_task_file_as_string(\n",
    "            batch_client,\n",
    "            job_id,\n",
    "            task_id,\n",
    "            _STANDARD_ERROR_FILE_NAME,\n",
    "            encoding)\n",
    "        print(\"{} content for task {}: \".format(\n",
    "            _STANDARD_ERROR_FILE_NAME,\n",
    "            task_id))\n",
    "        print(file_text)\n",
    "\n",
    "tasks = batch_client.task.list(job_id)\n",
    "task_ids = [task.id for task in tasks]\n",
    "\n",
    "# let's print the output of the first 3 tasks\n",
    "print_task_output(batch_client, job_id, task_ids[:3])"
   ]
  },
  {
   "cell_type": "markdown",
   "metadata": {},
   "source": [
    "## Checking Output\n",
    "As we created each task with an output file option, the produced filed by each execution of our sample_application will result in a new file being created in the output container in Azure Storage. We can quickly check all the files here:"
   ],
   "execution_count": null,
   "outputs": []
  },
  {
   "cell_type": "code",
   "execution_count": null,
   "metadata": {},
   "outputs": [],
   "source": [
    "output_file_list = blob_client.list_blobs(container_name=output_container_name)\n",
    "print(\"Number of files:\",len(list(output_file_list)))\n",
    "print(\"\\nFirst 10:\")\n",
    "for f in list(output_file_list)[0:10]:\n",
    "    print(f.name)"
   ]
  },
  {
   "cell_type": "markdown",
   "metadata": {},
   "source": [
    "## Delete Job\n",
    "No issues in removing the job because each task will write it's results to the output container in Azure Storage, however, keeping this uncommented will allow you to see the job in Batch Explorer and debug any failed tasks"
   ],
   "execution_count": null,
   "outputs": []
  },
  {
   "cell_type": "code",
   "execution_count": null,
   "metadata": {},
   "outputs": [],
   "source": [
    "#batch_client.job.delete(job.id)"
   ]
  },
  {
   "cell_type": "markdown",
   "metadata": {},
   "source": [
    "## Delete Pool\n",
    "Note: you may not necessarily want to do this because creating the pool takes some time"
   ],
   "execution_count": null,
   "outputs": []
  },
  {
   "cell_type": "code",
   "execution_count": null,
   "metadata": {},
   "outputs": [],
   "source": [
    "#batch_client.pool.delete(pool.id)"
   ]
  }
 ],
 "metadata": {
  "kernelspec": {
   "display_name": "Python 3",
   "language": "python",
   "name": "python3"
  },
  "language_info": {
   "codemirror_mode": {
    "name": "ipython",
    "version": 3
   },
   "file_extension": ".py",
   "mimetype": "text/x-python",
   "name": "python",
   "nbconvert_exporter": "python",
   "pygments_lexer": "ipython3",
   "version": "3.6.9-final"
  }
 },
 "nbformat": 4,
 "nbformat_minor": 4
}