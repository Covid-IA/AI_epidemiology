{
 "cells": [
  {
   "cell_type": "markdown",
   "metadata": {},
   "source": [
    "# How to access data in Azure"
   ]
  },
  {
   "cell_type": "code",
   "execution_count": 59,
   "metadata": {},
   "outputs": [],
   "source": [
    "from pprint import pprint\n",
    "import json\n",
    "\n",
    "# azure storage\n",
    "import azure.storage.blob as azureblob"
   ]
  },
  {
   "cell_type": "markdown",
   "metadata": {},
   "source": [
    "## Using Azure Storage SDK\n",
    "Package: pip install azure-storage-blob==1.3.1\n",
    "\n",
    "To connect to Azure Storage we need the Account Name and Key.\n",
    "This shouldn't be stored in repos because the Key is a secret. Currently it's being stored here because we're running in a private repo.\n",
    "\n",
    "A good way is keeping this information in a config file like here and making sure this file is not added to the repo (through .gitignore)\n",
    "\n",
    "Another way is storing the values in environment variables and making sure these are correctly setup on whatever target environment we want to run\n",
    "\n",
    "I recommend installing Azure Storage Explorer to easily access data in a graphical tool: https://azure.microsoft.com/en-us/features/storage-explorer/"
   ]
  },
  {
   "cell_type": "code",
   "execution_count": 60,
   "metadata": {},
   "outputs": [
    {
     "name": "stdout",
     "output_type": "stream",
     "text": [
      "{   'storageAccountKey': 'oGMRWvuJkmdKQJq7tqc/ZMl8F32aRSNAGcx+jKb31iCBnv2r6L/0Hj1QatgzhN5sdt0l72ufVFmIcLEUBupXUw==',\n",
      "    'storageAccountName': 'covidiastorage'}\n"
     ]
    }
   ],
   "source": [
    "settings_file = \"settings.json\"\n",
    "\n",
    "with open(settings_file) as f:\n",
    "    settings = json.load(f)\n",
    "\n",
    "pprint(settings, indent=4)"
   ]
  },
  {
   "cell_type": "code",
   "execution_count": 61,
   "metadata": {},
   "outputs": [],
   "source": [
    "!export COVIDIA_STORAGE_ACCOUNT_NAME=covidiastorage\n",
    "!export COVIDIA_STORAGE_ACCOUNT_KEY=oGMRWvuJkmdKQJq7tqc/ZMl8F32aRSNAGcx+jKb31iCBnv2r6L/0Hj1QatgzhN5sdt0l72ufVFmIcLEUBupXUw=="
   ]
  },
  {
   "cell_type": "code",
   "execution_count": 62,
   "metadata": {},
   "outputs": [],
   "source": [
    "# good way is to supply these values as environment variables so we don't keep secrets in the repo\n",
    "account_name = os.getenv(\"COVIDIA_STORAGE_ACCOUNT_NAME\")\n",
    "account_key = os.getenv(\"COVIDIA_STORAGE_ACCOUNT_KEY\")"
   ]
  },
  {
   "cell_type": "code",
   "execution_count": 64,
   "metadata": {},
   "outputs": [
    {
     "name": "stdout",
     "output_type": "stream",
     "text": [
      "None\n"
     ]
    }
   ],
   "source": [
    "print(account_name)"
   ]
  },
  {
   "cell_type": "markdown",
   "metadata": {},
   "source": [
    "### Creating the client"
   ]
  },
  {
   "cell_type": "code",
   "execution_count": 41,
   "metadata": {},
   "outputs": [],
   "source": [
    "# Create the blob client\n",
    "blob_client = azureblob.BlockBlobService(\n",
    "    account_name = settings[\"storageAccountName\"],\n",
    "    account_key = settings[\"storageAccountKey\"])"
   ]
  },
  {
   "cell_type": "markdown",
   "metadata": {},
   "source": [
    "### Listing Containers"
   ]
  },
  {
   "cell_type": "code",
   "execution_count": 42,
   "metadata": {},
   "outputs": [
    {
     "name": "stdout",
     "output_type": "stream",
     "text": [
      "data\n"
     ]
    }
   ],
   "source": [
    "# getting all the containers\n",
    "containers = blob_client.list_containers()\n",
    "\n",
    "for c in containers:\n",
    "    print(c.name)"
   ]
  },
  {
   "cell_type": "markdown",
   "metadata": {},
   "source": [
    "### Listing Files"
   ]
  },
  {
   "cell_type": "code",
   "execution_count": 43,
   "metadata": {},
   "outputs": [
    {
     "name": "stdout",
     "output_type": "stream",
     "text": [
      "influenza\n",
      "influenza/ILINet.csv\n",
      "influenza/WHO_NREVSS_Clinical_Labs.csv\n",
      "influenza/WHO_NREVSS_Combined_prior_to_2015_16.csv\n",
      "influenza/WHO_NREVSS_Public_Health_Labs.csv\n",
      "opencovid19\n",
      "opencovid19/chiffres-cles.json\n"
     ]
    }
   ],
   "source": [
    "# getting files in a container\n",
    "files = blob_client.list_blobs(container_name=\"data\")\n",
    "for f in files:\n",
    "    print(f.name)"
   ]
  },
  {
   "cell_type": "code",
   "execution_count": 44,
   "metadata": {},
   "outputs": [
    {
     "name": "stdout",
     "output_type": "stream",
     "text": [
      "influenza/ILINet.csv\n",
      "influenza/WHO_NREVSS_Clinical_Labs.csv\n",
      "influenza/WHO_NREVSS_Combined_prior_to_2015_16.csv\n",
      "influenza/WHO_NREVSS_Public_Health_Labs.csv\n"
     ]
    }
   ],
   "source": [
    "# getting files in a container with a prefix\n",
    "files = blob_client.list_blobs(container_name=\"data\", prefix=\"influenza/\")\n",
    "for f in files:\n",
    "    print(f.name)"
   ]
  },
  {
   "cell_type": "markdown",
   "metadata": {},
   "source": [
    "### Uploading a file"
   ]
  },
  {
   "cell_type": "code",
   "execution_count": 45,
   "metadata": {},
   "outputs": [
    {
     "name": "stdout",
     "output_type": "stream",
     "text": [
      "Uploaded settings.json to container test\n"
     ]
    }
   ],
   "source": [
    "# upload a file\n",
    "file_name = \"settings.json\"\n",
    "container_name = \"test\"\n",
    "\n",
    "# returns true if created, false if already exist\n",
    "blob_client.create_container(container_name, fail_on_exist=False)\n",
    "\n",
    "# upload file\n",
    "blob_client.create_blob_from_path(blob_name=file_name, file_path=file_name, container_name=container_name)\n",
    "\n",
    "print(\"Uploaded\", file_name, \"to container\", container_name)"
   ]
  },
  {
   "cell_type": "code",
   "execution_count": 46,
   "metadata": {},
   "outputs": [
    {
     "name": "stdout",
     "output_type": "stream",
     "text": [
      "settings.json\n"
     ]
    }
   ],
   "source": [
    "files = blob_client.list_blobs(container_name=container_name)\n",
    "for f in files:\n",
    "    print(f.name)"
   ]
  },
  {
   "cell_type": "markdown",
   "metadata": {},
   "source": [
    "### Downloading a file"
   ]
  },
  {
   "cell_type": "code",
   "execution_count": 47,
   "metadata": {},
   "outputs": [
    {
     "name": "stdout",
     "output_type": "stream",
     "text": [
      "Downloaded file to temp.json\n"
     ]
    }
   ],
   "source": [
    "# Download the blob to a local file\n",
    "file_path = \"temp.json\"\n",
    "blob_client.get_blob_to_path(container_name=container_name, blob_name=file_name, file_path=file_path)\n",
    "print(\"Downloaded file to\", file_path)"
   ]
  },
  {
   "cell_type": "code",
   "execution_count": 48,
   "metadata": {},
   "outputs": [
    {
     "name": "stdout",
     "output_type": "stream",
     "text": [
      "{\r\n",
      "    \"storageAccountName\" : \"covidiastorage\",\r\n",
      "    \"storageAccountKey\" : \"oGMRWvuJkmdKQJq7tqc/ZMl8F32aRSNAGcx+jKb31iCBnv2r6L/0Hj1QatgzhN5sdt0l72ufVFmIcLEUBupXUw==\"\r\n",
      "}"
     ]
    }
   ],
   "source": [
    "!cat temp.json"
   ]
  },
  {
   "cell_type": "code",
   "execution_count": 53,
   "metadata": {},
   "outputs": [],
   "source": [
    "!rm temp.json"
   ]
  },
  {
   "cell_type": "markdown",
   "metadata": {},
   "source": [
    "### Deleting a file"
   ]
  },
  {
   "cell_type": "code",
   "execution_count": 49,
   "metadata": {},
   "outputs": [],
   "source": [
    "# delete blob\n",
    "blob_client.delete_blob(container_name=container_name, blob_name=file_name)\n",
    "files = blob_client.list_blobs(container_name=container_name)\n",
    "for f in files:\n",
    "    print(f.name)"
   ]
  },
  {
   "cell_type": "markdown",
   "metadata": {},
   "source": [
    "### Deleting a container"
   ]
  },
  {
   "cell_type": "code",
   "execution_count": 50,
   "metadata": {},
   "outputs": [
    {
     "data": {
      "text/plain": [
       "True"
      ]
     },
     "execution_count": 50,
     "metadata": {},
     "output_type": "execute_result"
    }
   ],
   "source": [
    "# delete container\n",
    "blob_client.delete_container(container_name)"
   ]
  },
  {
   "cell_type": "markdown",
   "metadata": {},
   "source": [
    "## Full Example"
   ]
  },
  {
   "cell_type": "code",
   "execution_count": 51,
   "metadata": {},
   "outputs": [
    {
     "data": {
      "text/html": [
       "<div>\n",
       "<style scoped>\n",
       "    .dataframe tbody tr th:only-of-type {\n",
       "        vertical-align: middle;\n",
       "    }\n",
       "\n",
       "    .dataframe tbody tr th {\n",
       "        vertical-align: top;\n",
       "    }\n",
       "\n",
       "    .dataframe thead th {\n",
       "        text-align: right;\n",
       "    }\n",
       "</style>\n",
       "<table border=\"1\" class=\"dataframe\">\n",
       "  <thead>\n",
       "    <tr style=\"text-align: right;\">\n",
       "      <th></th>\n",
       "      <th>REGION TYPE</th>\n",
       "      <th>REGION</th>\n",
       "      <th>YEAR</th>\n",
       "      <th>WEEK</th>\n",
       "      <th>% WEIGHTED ILI</th>\n",
       "      <th>%UNWEIGHTED ILI</th>\n",
       "      <th>AGE 0-4</th>\n",
       "      <th>AGE 25-49</th>\n",
       "      <th>AGE 25-64</th>\n",
       "      <th>AGE 5-24</th>\n",
       "      <th>AGE 50-64</th>\n",
       "      <th>AGE 65</th>\n",
       "      <th>ILITOTAL</th>\n",
       "      <th>NUM. OF PROVIDERS</th>\n",
       "      <th>TOTAL PATIENTS</th>\n",
       "    </tr>\n",
       "  </thead>\n",
       "  <tbody>\n",
       "    <tr>\n",
       "      <th>0</th>\n",
       "      <td>HHS Regions</td>\n",
       "      <td>Region 1</td>\n",
       "      <td>1997</td>\n",
       "      <td>40</td>\n",
       "      <td>0.498535</td>\n",
       "      <td>0.623848</td>\n",
       "      <td>15</td>\n",
       "      <td>NaN</td>\n",
       "      <td>7.0</td>\n",
       "      <td>22</td>\n",
       "      <td>NaN</td>\n",
       "      <td>0</td>\n",
       "      <td>44</td>\n",
       "      <td>32</td>\n",
       "      <td>7053</td>\n",
       "    </tr>\n",
       "    <tr>\n",
       "      <th>1</th>\n",
       "      <td>HHS Regions</td>\n",
       "      <td>Region 2</td>\n",
       "      <td>1997</td>\n",
       "      <td>40</td>\n",
       "      <td>0.374963</td>\n",
       "      <td>0.384615</td>\n",
       "      <td>0</td>\n",
       "      <td>NaN</td>\n",
       "      <td>3.0</td>\n",
       "      <td>0</td>\n",
       "      <td>NaN</td>\n",
       "      <td>0</td>\n",
       "      <td>3</td>\n",
       "      <td>7</td>\n",
       "      <td>780</td>\n",
       "    </tr>\n",
       "    <tr>\n",
       "      <th>2</th>\n",
       "      <td>HHS Regions</td>\n",
       "      <td>Region 3</td>\n",
       "      <td>1997</td>\n",
       "      <td>40</td>\n",
       "      <td>1.354280</td>\n",
       "      <td>1.341720</td>\n",
       "      <td>6</td>\n",
       "      <td>NaN</td>\n",
       "      <td>7.0</td>\n",
       "      <td>15</td>\n",
       "      <td>NaN</td>\n",
       "      <td>4</td>\n",
       "      <td>32</td>\n",
       "      <td>16</td>\n",
       "      <td>2385</td>\n",
       "    </tr>\n",
       "    <tr>\n",
       "      <th>3</th>\n",
       "      <td>HHS Regions</td>\n",
       "      <td>Region 4</td>\n",
       "      <td>1997</td>\n",
       "      <td>40</td>\n",
       "      <td>0.400338</td>\n",
       "      <td>0.450010</td>\n",
       "      <td>12</td>\n",
       "      <td>NaN</td>\n",
       "      <td>23.0</td>\n",
       "      <td>11</td>\n",
       "      <td>NaN</td>\n",
       "      <td>0</td>\n",
       "      <td>46</td>\n",
       "      <td>29</td>\n",
       "      <td>10222</td>\n",
       "    </tr>\n",
       "    <tr>\n",
       "      <th>4</th>\n",
       "      <td>HHS Regions</td>\n",
       "      <td>Region 5</td>\n",
       "      <td>1997</td>\n",
       "      <td>40</td>\n",
       "      <td>1.229260</td>\n",
       "      <td>0.901266</td>\n",
       "      <td>31</td>\n",
       "      <td>NaN</td>\n",
       "      <td>24.0</td>\n",
       "      <td>30</td>\n",
       "      <td>NaN</td>\n",
       "      <td>4</td>\n",
       "      <td>89</td>\n",
       "      <td>49</td>\n",
       "      <td>9875</td>\n",
       "    </tr>\n",
       "    <tr>\n",
       "      <th>5</th>\n",
       "      <td>HHS Regions</td>\n",
       "      <td>Region 6</td>\n",
       "      <td>1997</td>\n",
       "      <td>40</td>\n",
       "      <td>1.018980</td>\n",
       "      <td>0.747384</td>\n",
       "      <td>2</td>\n",
       "      <td>NaN</td>\n",
       "      <td>1.0</td>\n",
       "      <td>2</td>\n",
       "      <td>NaN</td>\n",
       "      <td>0</td>\n",
       "      <td>5</td>\n",
       "      <td>4</td>\n",
       "      <td>669</td>\n",
       "    </tr>\n",
       "    <tr>\n",
       "      <th>6</th>\n",
       "      <td>HHS Regions</td>\n",
       "      <td>Region 7</td>\n",
       "      <td>1997</td>\n",
       "      <td>40</td>\n",
       "      <td>0.871791</td>\n",
       "      <td>1.152860</td>\n",
       "      <td>0</td>\n",
       "      <td>NaN</td>\n",
       "      <td>4.0</td>\n",
       "      <td>18</td>\n",
       "      <td>NaN</td>\n",
       "      <td>5</td>\n",
       "      <td>27</td>\n",
       "      <td>14</td>\n",
       "      <td>2342</td>\n",
       "    </tr>\n",
       "    <tr>\n",
       "      <th>7</th>\n",
       "      <td>HHS Regions</td>\n",
       "      <td>Region 8</td>\n",
       "      <td>1997</td>\n",
       "      <td>40</td>\n",
       "      <td>0.516017</td>\n",
       "      <td>0.422654</td>\n",
       "      <td>2</td>\n",
       "      <td>NaN</td>\n",
       "      <td>0.0</td>\n",
       "      <td>3</td>\n",
       "      <td>NaN</td>\n",
       "      <td>0</td>\n",
       "      <td>5</td>\n",
       "      <td>5</td>\n",
       "      <td>1183</td>\n",
       "    </tr>\n",
       "    <tr>\n",
       "      <th>8</th>\n",
       "      <td>HHS Regions</td>\n",
       "      <td>Region 9</td>\n",
       "      <td>1997</td>\n",
       "      <td>40</td>\n",
       "      <td>1.807610</td>\n",
       "      <td>2.258780</td>\n",
       "      <td>80</td>\n",
       "      <td>NaN</td>\n",
       "      <td>76.0</td>\n",
       "      <td>74</td>\n",
       "      <td>NaN</td>\n",
       "      <td>13</td>\n",
       "      <td>243</td>\n",
       "      <td>23</td>\n",
       "      <td>10758</td>\n",
       "    </tr>\n",
       "    <tr>\n",
       "      <th>9</th>\n",
       "      <td>HHS Regions</td>\n",
       "      <td>Region 10</td>\n",
       "      <td>1997</td>\n",
       "      <td>40</td>\n",
       "      <td>4.743520</td>\n",
       "      <td>4.825400</td>\n",
       "      <td>31</td>\n",
       "      <td>NaN</td>\n",
       "      <td>12.0</td>\n",
       "      <td>30</td>\n",
       "      <td>NaN</td>\n",
       "      <td>3</td>\n",
       "      <td>76</td>\n",
       "      <td>13</td>\n",
       "      <td>1575</td>\n",
       "    </tr>\n",
       "  </tbody>\n",
       "</table>\n",
       "</div>"
      ],
      "text/plain": [
       "   REGION TYPE     REGION  YEAR  WEEK  % WEIGHTED ILI  %UNWEIGHTED ILI  \\\n",
       "0  HHS Regions   Region 1  1997    40        0.498535         0.623848   \n",
       "1  HHS Regions   Region 2  1997    40        0.374963         0.384615   \n",
       "2  HHS Regions   Region 3  1997    40        1.354280         1.341720   \n",
       "3  HHS Regions   Region 4  1997    40        0.400338         0.450010   \n",
       "4  HHS Regions   Region 5  1997    40        1.229260         0.901266   \n",
       "5  HHS Regions   Region 6  1997    40        1.018980         0.747384   \n",
       "6  HHS Regions   Region 7  1997    40        0.871791         1.152860   \n",
       "7  HHS Regions   Region 8  1997    40        0.516017         0.422654   \n",
       "8  HHS Regions   Region 9  1997    40        1.807610         2.258780   \n",
       "9  HHS Regions  Region 10  1997    40        4.743520         4.825400   \n",
       "\n",
       "   AGE 0-4  AGE 25-49  AGE 25-64  AGE 5-24  AGE 50-64  AGE 65  ILITOTAL  \\\n",
       "0       15        NaN        7.0        22        NaN       0        44   \n",
       "1        0        NaN        3.0         0        NaN       0         3   \n",
       "2        6        NaN        7.0        15        NaN       4        32   \n",
       "3       12        NaN       23.0        11        NaN       0        46   \n",
       "4       31        NaN       24.0        30        NaN       4        89   \n",
       "5        2        NaN        1.0         2        NaN       0         5   \n",
       "6        0        NaN        4.0        18        NaN       5        27   \n",
       "7        2        NaN        0.0         3        NaN       0         5   \n",
       "8       80        NaN       76.0        74        NaN      13       243   \n",
       "9       31        NaN       12.0        30        NaN       3        76   \n",
       "\n",
       "   NUM. OF PROVIDERS  TOTAL PATIENTS  \n",
       "0                 32            7053  \n",
       "1                  7             780  \n",
       "2                 16            2385  \n",
       "3                 29           10222  \n",
       "4                 49            9875  \n",
       "5                  4             669  \n",
       "6                 14            2342  \n",
       "7                  5            1183  \n",
       "8                 23           10758  \n",
       "9                 13            1575  "
      ]
     },
     "execution_count": 51,
     "metadata": {},
     "output_type": "execute_result"
    }
   ],
   "source": [
    "import pandas as pd\n",
    "import os\n",
    "\n",
    "# set variables\n",
    "container_name = \"data\"\n",
    "file_name = \"influenza/ILINet.csv\"\n",
    "local_folder_name = \"temp\"\n",
    "local_file_name = \"ILINet.csv\"\n",
    "local_file_path = os.path.join(local_folder_name, local_file_name)\n",
    "\n",
    "# download dataset\n",
    "os.makedirs(local_folder_name,exist_ok=True)\n",
    "blob_client.get_blob_to_path(container_name=container_name, blob_name=file_name, file_path=local_file_path)\n",
    "\n",
    "# read with pandas\n",
    "df = pd.read_csv(local_file_path, skiprows=1)\n",
    "df.head(10)"
   ]
  },
  {
   "cell_type": "code",
   "execution_count": 52,
   "metadata": {},
   "outputs": [
    {
     "name": "stdout",
     "output_type": "stream",
     "text": [
      "Index(['REGION TYPE', 'REGION', 'YEAR', 'WEEK', '% WEIGHTED ILI',\n",
      "       '%UNWEIGHTED ILI', 'AGE 0-4', 'AGE 25-49', 'AGE 25-64', 'AGE 5-24',\n",
      "       'AGE 50-64', 'AGE 65', 'ILITOTAL', 'NUM. OF PROVIDERS',\n",
      "       'TOTAL PATIENTS'],\n",
      "      dtype='object')\n"
     ]
    }
   ],
   "source": [
    "print(df.columns)"
   ]
  },
  {
   "cell_type": "code",
   "execution_count": 54,
   "metadata": {},
   "outputs": [],
   "source": [
    "!rm temp -rf"
   ]
  },
  {
   "cell_type": "code",
   "execution_count": null,
   "metadata": {},
   "outputs": [],
   "source": []
  }
 ],
 "metadata": {
  "kernelspec": {
   "display_name": "azureml_py36_automl",
   "language": "python",
   "name": "conda-env-azureml_py36_automl-py"
  },
  "language_info": {
   "codemirror_mode": {
    "name": "ipython",
    "version": 3
   },
   "file_extension": ".py",
   "mimetype": "text/x-python",
   "name": "python",
   "nbconvert_exporter": "python",
   "pygments_lexer": "ipython3",
   "version": "3.6.9"
  }
 },
 "nbformat": 4,
 "nbformat_minor": 4
}
