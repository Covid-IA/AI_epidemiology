{
 "cells": [
  {
   "cell_type": "markdown",
   "metadata": {},
   "source": [
    "# Logging API\n",
    "This tutorial expands on the previous example to see how to log and store other types of data including images and vectors\n",
    "\n",
    "| ![](imgs/rundetails.PNG) | ![](imgs/runhistory.PNG) |\n",
    "|:--:|:--:|"
   ]
  },
  {
   "cell_type": "code",
   "execution_count": 1,
   "metadata": {
    "tags": [
     "install"
    ]
   },
   "outputs": [
    {
     "name": "stdout",
     "output_type": "stream",
     "text": [
      "1.0.85\n"
     ]
    }
   ],
   "source": [
    "import azureml.core\n",
    "import numpy as np\n",
    "from tqdm import tqdm\n",
    "\n",
    "# Check core SDK version number\n",
    "print(azureml.core.VERSION)"
   ]
  },
  {
   "cell_type": "markdown",
   "metadata": {},
   "source": [
    "### Initialize workspace\n",
    "\n",
    "Initialize a workspace object from persisted configuration."
   ]
  },
  {
   "cell_type": "code",
   "execution_count": 3,
   "metadata": {
    "tags": [
     "create workspace"
    ]
   },
   "outputs": [
    {
     "name": "stdout",
     "output_type": "stream",
     "text": [
      "Workspace name: covidia-azureml\n",
      "Azure region: francecentral\n",
      "Subscription id: 0f79a3af-2a43-45ec-8ed6-ca637ec2970a\n",
      "Resource group: IAPIPELINE-RG\n"
     ]
    }
   ],
   "source": [
    "from azureml.core import Experiment, Workspace, Run\n",
    "from azureml.core.authentication import InteractiveLoginAuthentication\n",
    "\n",
    "# in cases where you have access to multiple Azure tentants, authentication can fail.\n",
    "# we're setting the correct tenant here to ensure we connect to correct subscription\n",
    "interactive_auth = InteractiveLoginAuthentication(tenant_id=\"07a0b6d8-af47-45ef-8f74-764fe040ede9\")\n",
    "\n",
    "ws = Workspace.from_config()\n",
    "\n",
    "print('Workspace name: ' + ws.name, \n",
    "      'Azure region: ' + ws.location, \n",
    "      'Subscription id: ' + ws.subscription_id, \n",
    "      'Resource group: ' + ws.resource_group, sep='\\n')"
   ]
  },
  {
   "cell_type": "markdown",
   "metadata": {},
   "source": [
    "### Set experiment\n",
    "Create a new experiment (or get the one with the specified name).  An *experiment* is a container for an arbitrary set of *runs*. "
   ]
  },
  {
   "cell_type": "code",
   "execution_count": 4,
   "metadata": {},
   "outputs": [],
   "source": [
    "experiment = Experiment(workspace=ws, name='logging-api-test')"
   ]
  },
  {
   "cell_type": "markdown",
   "metadata": {},
   "source": [
    "---\n",
    "\n",
    "## Logging\n",
    "In this section we will explore the various logging mechanisms.\n",
    "\n",
    "### Starting a run\n",
    "\n",
    "A *run* is a singular experimental trial.  In this notebook we will create a run directly on the experiment  by calling `run = exp.start_logging()`.  If you were experimenting by submitting a script file as an experiment using ``experiment.submit()``, you would call `run = Run.get_context()` in your script to access the run context of your code.  In either case, the logging methods on the returned run object work the same.\n",
    "\n",
    "This cell also stores the run id for use later in this notebook.  The run_id is not necessary for logging."
   ]
  },
  {
   "cell_type": "code",
   "execution_count": 5,
   "metadata": {},
   "outputs": [],
   "source": [
    "# start logging for the run\n",
    "run = experiment.start_logging()\n",
    "\n",
    "# access the run id for use later\n",
    "run_id = run.id\n",
    "\n",
    "# change the scale factor on different runs to see how you can compare multiple runs\n",
    "scale_factor = 2\n",
    "\n",
    "# change the category on different runs to see how to organize data in reports\n",
    "category = 'Red'"
   ]
  },
  {
   "cell_type": "markdown",
   "metadata": {},
   "source": [
    "#### Viewing a run in the Portal\n",
    "Once a run is started you can see the run in the portal by simply typing ``run``.  Clicking on the \"Link to Portal\" link will take you to the Run Details page that shows the metrics you have logged and other run properties.  You can refresh this page after each logging statement to see the updated results."
   ]
  },
  {
   "cell_type": "code",
   "execution_count": 6,
   "metadata": {},
   "outputs": [
    {
     "data": {
      "text/html": [
       "<table style=\"width:100%\"><tr><th>Experiment</th><th>Id</th><th>Type</th><th>Status</th><th>Details Page</th><th>Docs Page</th></tr><tr><td>logging-api-test</td><td>795c847a-ea7d-4194-9413-86768068b7a9</td><td></td><td>Running</td><td><a href=\"https://ml.azure.com/experiments/logging-api-test/runs/795c847a-ea7d-4194-9413-86768068b7a9?wsid=/subscriptions/0f79a3af-2a43-45ec-8ed6-ca637ec2970a/resourcegroups/IAPIPELINE-RG/workspaces/covidia-azureml\" target=\"_blank\" rel=\"noopener\">Link to Azure Machine Learning studio</a></td><td><a href=\"https://docs.microsoft.com/en-us/python/api/azureml-core/azureml.core.run.Run?view=azure-ml-py\" target=\"_blank\" rel=\"noopener\">Link to Documentation</a></td></tr></table>"
      ],
      "text/plain": [
       "Run(Experiment: logging-api-test,\n",
       "Id: 795c847a-ea7d-4194-9413-86768068b7a9,\n",
       "Type: None,\n",
       "Status: Running)"
      ]
     },
     "execution_count": 6,
     "metadata": {},
     "output_type": "execute_result"
    }
   ],
   "source": [
    "run"
   ]
  },
  {
   "cell_type": "markdown",
   "metadata": {},
   "source": [
    "### Viewing an experiment in the portal\n",
    "You can also view an experiement similarly by typing `experiment`.  The portal link will take you to the experiment's Run History page that shows all runs and allows you to analyze trends across multiple runs."
   ]
  },
  {
   "cell_type": "code",
   "execution_count": 7,
   "metadata": {},
   "outputs": [
    {
     "data": {
      "text/html": [
       "<table style=\"width:100%\"><tr><th>Name</th><th>Workspace</th><th>Report Page</th><th>Docs Page</th></tr><tr><td>logging-api-test</td><td>covidia-azureml</td><td><a href=\"https://ml.azure.com/experiments/logging-api-test?wsid=/subscriptions/0f79a3af-2a43-45ec-8ed6-ca637ec2970a/resourcegroups/IAPIPELINE-RG/workspaces/covidia-azureml\" target=\"_blank\" rel=\"noopener\">Link to Azure Machine Learning studio</a></td><td><a href=\"https://docs.microsoft.com/en-us/python/api/azureml-core/azureml.core.experiment.Experiment?view=azure-ml-py\" target=\"_blank\" rel=\"noopener\">Link to Documentation</a></td></tr></table>"
      ],
      "text/plain": [
       "Experiment(Name: logging-api-test,\n",
       "Workspace: covidia-azureml)"
      ]
     },
     "execution_count": 7,
     "metadata": {},
     "output_type": "execute_result"
    }
   ],
   "source": [
    "experiment"
   ]
  },
  {
   "cell_type": "markdown",
   "metadata": {},
   "source": [
    "## Logging metrics\n",
    "Metrics are visible in the run details page in the AzureML portal and also can be analyzed in experiment reports.  The run details page looks as below and contains tabs for Details, Outputs, Logs, and Snapshot.  \n",
    "* The Details page displays attributes about the run, plus logged metrics and images.  Metrics that are vectors appear as charts.  \n",
    "* The Outputs page contains any files, such as models, you uploaded into the \"outputs\" directory from your run into storage.  If you place files in the \"outputs\" directory locally, the files are automatically uploaded on your behald when the run is completed.\n",
    "* The Logs page allows you to view any log files created by your run.  Logging runs created in notebooks typically do not generate log files.\n",
    "* The Snapshot page contains a snapshot of the directory specified in the ''start_logging'' statement, plus the notebook at the time of the ''start_logging'' call.  This snapshot and notebook can be downloaded from the Run Details page to continue or reproduce an experiment.\n",
    "\n",
    "### Logging string metrics\n",
    "The following cell logs a string metric.  A string metric is simply a string value associated with a name.  A string metric String metrics are useful for labelling runs and to organize your data.  Typically you should log all string parameters as metrics for later analysis - even information such as paths can help to understand how individual experiements perform differently.\n",
    "\n",
    "String metrics can be used in the following ways:\n",
    "* Plot in hitograms\n",
    "* Group by indicators for numerical plots\n",
    "* Filtering runs\n",
    "\n",
    "String metrics appear in the **Tracked Metrics** section of the Run Details page and can be added as a column in Run History reports."
   ]
  },
  {
   "cell_type": "code",
   "execution_count": 8,
   "metadata": {},
   "outputs": [],
   "source": [
    "# log a string metric\n",
    "run.log(name='Category', value=category)"
   ]
  },
  {
   "cell_type": "markdown",
   "metadata": {},
   "source": [
    "### Logging numerical metrics\n",
    "The following cell logs some numerical metrics.  Numerical metrics can include metrics such as AUC or MSE.  You should log any parameter or significant output measure in order to understand trends across multiple experiments.  Numerical metrics appear in the **Tracked Metrics** section of the Run Details page, and can be used in charts or KPI's in experiment Run History reports."
   ]
  },
  {
   "cell_type": "code",
   "execution_count": 9,
   "metadata": {},
   "outputs": [],
   "source": [
    "# log numerical values\n",
    "run.log(name=\"scale factor\", value = scale_factor)\n",
    "run.log(name='Magic Number', value=42 * scale_factor)"
   ]
  },
  {
   "cell_type": "markdown",
   "metadata": {},
   "source": [
    "### Logging vectors\n",
    "Vectors are good for recording information such as loss curves.  You can log a vector by create a list of numbers and call ``log_list()`` and supply a name and the list, or by repeatedly logging a value using the same name.\n",
    "\n",
    "Vectors are presented in Run Details as a chart, and are directly comparable in experiment reports when placed in a chart.  **Note:** vectors logged into the run are expected to be relatively small.  Logging very large vectors into Azure ML can result in reduced performance.  If you need to store large amounts of data associated with the run, you can write the data to file that will be uploaded."
   ]
  },
  {
   "cell_type": "code",
   "execution_count": 10,
   "metadata": {},
   "outputs": [
    {
     "name": "stderr",
     "output_type": "stream",
     "text": [
      "100%|██████████| 20/20 [00:00<00:00, 4844.99it/s]\n"
     ]
    }
   ],
   "source": [
    "fibonacci_values = [0, 1, 1, 2, 3, 5, 8, 13, 21, 34, 55, 89]\n",
    "scaled_values = (i * scale_factor for i in fibonacci_values)\n",
    "\n",
    "# Log a list of values. Note this will generate a single-variable line chart.\n",
    "run.log_list(name='Fibonacci', value=scaled_values)\n",
    "\n",
    "for i in tqdm(range(-10, 10)):\n",
    "    # log a metric value repeatedly, this will generate a single-variable line chart.\n",
    "    run.log(name='Sigmoid', value=1 / (1 + np.exp(-i)))\n",
    "    "
   ]
  },
  {
   "cell_type": "markdown",
   "metadata": {},
   "source": [
    "### Logging tables\n",
    "Tables are good for recording related sets of information such as accuracy tables, confusion matrices, etc.  \n",
    "You can log a table in two ways:\n",
    "* Create a dictionary of lists where each list represents a column in the table and call ``log_table()``\n",
    "* Repeatedly call ``log_row()`` providing the same table name with a consistent set of named args as the column values\n",
    "\n",
    "Tables are presented in Run Details as a chart using the first two columns of the table  **Note:** tables logged into the run are expected to be relatively small.  Logging very large tables into Azure ML can result in reduced performance.  If you need to store large amounts of data associated with the run, you can write the data to file that will be uploaded."
   ]
  },
  {
   "cell_type": "code",
   "execution_count": 11,
   "metadata": {},
   "outputs": [
    {
     "name": "stderr",
     "output_type": "stream",
     "text": [
      "100%|██████████| 20/20 [00:00<00:00, 4111.46it/s]\n"
     ]
    }
   ],
   "source": [
    "# create a dictionary to hold a table of values\n",
    "sines = {}\n",
    "sines['angle'] = []\n",
    "sines['sine'] = []\n",
    "\n",
    "for i in tqdm(range(-10, 10)):\n",
    "    angle = i / 2.0 * scale_factor\n",
    "    \n",
    "    # log a 2 (or more) values as a metric repeatedly. This will generate a 2-variable line chart if you have 2 numerical columns.\n",
    "    run.log_row(name='Cosine Wave', angle=angle, cos=np.cos(angle))\n",
    "        \n",
    "    sines['angle'].append(angle)\n",
    "    sines['sine'].append(np.sin(angle))\n",
    "\n",
    "# log a dictionary as a table, this will generate a 2-variable chart if you have 2 numerical columns\n",
    "run.log_table(name='Sine Wave', value=sines)"
   ]
  },
  {
   "cell_type": "markdown",
   "metadata": {},
   "source": [
    "### Logging images\n",
    "You can directly log _matplotlib_ plots and arbitrary images to your run record.  This code logs a _matplotlib_ pyplot object.  Images show up in the run details page in the Azure ML Portal."
   ]
  },
  {
   "cell_type": "code",
   "execution_count": 12,
   "metadata": {},
   "outputs": [
    {
     "data": {
      "image/png": "[encoded data removed]",
      "text/plain": [
       "<Figure size 432x288 with 1 Axes>"
      ]
     },
     "metadata": {
      "needs_background": "light"
     },
     "output_type": "display_data"
    }
   ],
   "source": [
    "%matplotlib inline\n",
    "\n",
    "# Create a plot\n",
    "import matplotlib.pyplot as plt\n",
    "angle = np.linspace(-3, 3, 50) * scale_factor\n",
    "plt.plot(angle,np.tanh(angle), label='tanh')\n",
    "plt.legend(fontsize=12)\n",
    "plt.title('Hyperbolic Tangent', fontsize=16)\n",
    "plt.grid(True)\n",
    "\n",
    "# Log the plot to the run.  To log an arbitrary image, use the form run.log_image(name, path='./image_path.png')\n",
    "run.log_image(name='Hyperbolic Tangent', plot=plt)"
   ]
  },
  {
   "cell_type": "markdown",
   "metadata": {},
   "source": [
    "### Uploading files\n",
    "\n",
    "Any files that are placed in the ``.\\outputs`` directory are automatically uploaded when the run is completed.  These files are also visible in the *Outputs* tab of the Run Details page.  Files can also be uploaded explicitly and stored as artifacts along with the run record.\n"
   ]
  },
  {
   "cell_type": "code",
   "execution_count": 16,
   "metadata": {},
   "outputs": [],
   "source": [
    "import os\n",
    "os.makedirs('outputs', exist_ok=True)\n",
    "output_file = os.path.join('outputs','myfile.txt')"
   ]
  },
  {
   "cell_type": "code",
   "execution_count": 17,
   "metadata": {},
   "outputs": [
    {
     "name": "stdout",
     "output_type": "stream",
     "text": [
      "Writing outputs/myfile.txt\n"
     ]
    }
   ],
   "source": [
    "%%writefile $output_file\n",
    "\n",
    "This is an output file that will be automatically uploaded."
   ]
  },
  {
   "cell_type": "code",
   "execution_count": 18,
   "metadata": {},
   "outputs": [
    {
     "data": {
      "text/plain": [
       "<azureml._restclient.models.batch_artifact_content_information_dto.BatchArtifactContentInformationDto at 0x7fec045d9b38>"
      ]
     },
     "execution_count": 18,
     "metadata": {},
     "output_type": "execute_result"
    }
   ],
   "source": [
    "run.upload_file(name=output_file, path_or_stream=output_file)"
   ]
  },
  {
   "cell_type": "markdown",
   "metadata": {},
   "source": [
    "### Completing the run\n",
    "\n",
    "Calling `run.complete()` marks the run as completed and triggers the output file collection.  If for any reason you need to indicate the run failed or simply need to cancel the run you can call `run.fail()` or `run.cancel()`."
   ]
  },
  {
   "cell_type": "code",
   "execution_count": 19,
   "metadata": {},
   "outputs": [],
   "source": [
    "run.complete()"
   ]
  },
  {
   "cell_type": "markdown",
   "metadata": {},
   "source": [
    "### Executing more runs"
   ]
  },
  {
   "cell_type": "code",
   "execution_count": 21,
   "metadata": {},
   "outputs": [
    {
     "name": "stdout",
     "output_type": "stream",
     "text": [
      "[INFO] Connected to workspace covidia-azureml\n",
      "[INFO] Connected to experiment logging-api-test\n",
      "100%|█████████████████████████████████████████| 20/20 [00:00<00:00, 6947.09it/s]\n",
      "100%|█████████████████████████████████████████| 20/20 [00:00<00:00, 6123.97it/s]\n",
      "Finished run with id fbe94314-bb95-49b4-bb1d-7740af85b2b0\n",
      "100%|█████████████████████████████████████████| 20/20 [00:00<00:00, 7857.44it/s]\n",
      "100%|█████████████████████████████████████████| 20/20 [00:00<00:00, 5792.44it/s]\n",
      "Finished run with id 5ed11114-c433-459a-8f8b-5f86bca012d3\n",
      "100%|█████████████████████████████████████████| 20/20 [00:00<00:00, 6900.23it/s]\n",
      "100%|█████████████████████████████████████████| 20/20 [00:00<00:00, 5077.85it/s]\n",
      "Finished run with id e0f3f59a-02cf-484a-b63b-760cf5b244ff\n",
      "100%|█████████████████████████████████████████| 20/20 [00:00<00:00, 6269.51it/s]\n",
      "100%|█████████████████████████████████████████| 20/20 [00:00<00:00, 4972.21it/s]\n",
      "Finished run with id 29ebf00f-98ac-44ad-be78-a5be561fedbf\n",
      "100%|█████████████████████████████████████████| 20/20 [00:00<00:00, 7724.32it/s]\n",
      "100%|█████████████████████████████████████████| 20/20 [00:00<00:00, 6056.76it/s]\n",
      "Finished run with id 5267dd2d-9482-4e34-8445-56d799beeda1\n",
      "\n",
      "All Done!!!\n"
     ]
    }
   ],
   "source": [
    "!python scripts/do_runs.py"
   ]
  },
  {
   "cell_type": "markdown",
   "metadata": {},
   "source": [
    "---\n",
    "\n",
    "## Analyzing results"
   ]
  },
  {
   "cell_type": "markdown",
   "metadata": {},
   "source": [
    "You can refresh the run in the Azure portal to see all of your results.  In many cases you will want to analyze runs that were performed previously to inspect the contents or compare results.  Runs can be fetched from their parent Experiment object using the ``Run()`` constructor or the ``experiment.get_runs()`` method. "
   ]
  },
  {
   "cell_type": "code",
   "execution_count": 22,
   "metadata": {},
   "outputs": [
    {
     "data": {
      "text/html": [
       "<table style=\"width:100%\"><tr><th>Experiment</th><th>Id</th><th>Type</th><th>Status</th><th>Details Page</th><th>Docs Page</th></tr><tr><td>logging-api-test</td><td>795c847a-ea7d-4194-9413-86768068b7a9</td><td></td><td>Completed</td><td><a href=\"https://ml.azure.com/experiments/logging-api-test/runs/795c847a-ea7d-4194-9413-86768068b7a9?wsid=/subscriptions/0f79a3af-2a43-45ec-8ed6-ca637ec2970a/resourcegroups/IAPIPELINE-RG/workspaces/covidia-azureml\" target=\"_blank\" rel=\"noopener\">Link to Azure Machine Learning studio</a></td><td><a href=\"https://docs.microsoft.com/en-us/python/api/azureml-core/azureml.core.run.Run?view=azure-ml-py\" target=\"_blank\" rel=\"noopener\">Link to Documentation</a></td></tr></table>"
      ],
      "text/plain": [
       "Run(Experiment: logging-api-test,\n",
       "Id: 795c847a-ea7d-4194-9413-86768068b7a9,\n",
       "Type: None,\n",
       "Status: Completed)"
      ]
     },
     "execution_count": 22,
     "metadata": {},
     "output_type": "execute_result"
    }
   ],
   "source": [
    "fetched_run = Run(experiment, run_id)\n",
    "fetched_run"
   ]
  },
  {
   "cell_type": "markdown",
   "metadata": {},
   "source": [
    "Call ``run.get_metrics()`` to retrieve all the metrics from a run."
   ]
  },
  {
   "cell_type": "code",
   "execution_count": 24,
   "metadata": {},
   "outputs": [
    {
     "name": "stdout",
     "output_type": "stream",
     "text": [
      "Red\n",
      "84\n",
      "[0, 2, 2, 4, 6, 10, 16, 26, 42, 68, 110, 178]\n"
     ]
    }
   ],
   "source": [
    "metrics = fetched_run.get_metrics()\n",
    "\n",
    "print(metrics['Category'])\n",
    "print(metrics['Magic Number'])\n",
    "print(metrics['Fibonacci'])"
   ]
  },
  {
   "cell_type": "markdown",
   "metadata": {},
   "source": [
    "#### Download assets"
   ]
  },
  {
   "cell_type": "code",
   "execution_count": 25,
   "metadata": {},
   "outputs": [
    {
     "data": {
      "text/plain": [
       "['Hyperbolic Tangent_1586963150.png', 'outputs/myfile.txt']"
      ]
     },
     "execution_count": 25,
     "metadata": {},
     "output_type": "execute_result"
    }
   ],
   "source": [
    "fetched_run.get_file_names()"
   ]
  },
  {
   "cell_type": "markdown",
   "metadata": {},
   "source": [
    "Once you know the file names in a run, you can download the files using the ``run.download_file()`` method"
   ]
  },
  {
   "cell_type": "code",
   "execution_count": 26,
   "metadata": {},
   "outputs": [
    {
     "name": "stdout",
     "output_type": "stream",
     "text": [
      "Downloading file Hyperbolic Tangent_1586963150.png to files/Hyperbolic Tangent_1586963150.png...\n",
      "Downloading file outputs/myfile.txt to files/myfile.txt...\n"
     ]
    }
   ],
   "source": [
    "import os\n",
    "os.makedirs('files', exist_ok=True)\n",
    "\n",
    "for f in run.get_file_names():\n",
    "    dest = os.path.join('files', f.split('/')[-1])\n",
    "    print('Downloading file {} to {}...'.format(f, dest))\n",
    "    fetched_run.download_file(f, dest)   "
   ]
  },
  {
   "cell_type": "markdown",
   "metadata": {},
   "source": [
    "### Aggregate metrics"
   ]
  },
  {
   "cell_type": "code",
   "execution_count": 27,
   "metadata": {},
   "outputs": [
    {
     "name": "stdout",
     "output_type": "stream",
     "text": [
      "Run(Experiment: logging-api-test,\n",
      "Id: 29ebf00f-98ac-44ad-be78-a5be561fedbf,\n",
      "Type: None,\n",
      "Status: Completed)\n",
      "\n",
      "Run(Experiment: logging-api-test,\n",
      "Id: e0f3f59a-02cf-484a-b63b-760cf5b244ff,\n",
      "Type: None,\n",
      "Status: Completed)\n",
      "\n",
      "Run(Experiment: logging-api-test,\n",
      "Id: 5ed11114-c433-459a-8f8b-5f86bca012d3,\n",
      "Type: None,\n",
      "Status: Completed)\n",
      "\n",
      "Run(Experiment: logging-api-test,\n",
      "Id: fbe94314-bb95-49b4-bb1d-7740af85b2b0,\n",
      "Type: None,\n",
      "Status: Completed)\n",
      "\n",
      "Run(Experiment: logging-api-test,\n",
      "Id: 795c847a-ea7d-4194-9413-86768068b7a9,\n",
      "Type: None,\n",
      "Status: Completed)\n",
      "\n"
     ]
    }
   ],
   "source": [
    "# looping through runs\n",
    "all_runs = list(experiment.get_runs())\n",
    "for r in all_runs[-5:]:\n",
    "    print(r)\n",
    "    print()"
   ]
  },
  {
   "cell_type": "code",
   "execution_count": 28,
   "metadata": {},
   "outputs": [
    {
     "data": {
      "image/png": "[encoded data removed]",
      "text/plain": [
       "<Figure size 432x288 with 1 Axes>"
      ]
     },
     "metadata": {
      "needs_background": "light"
     },
     "output_type": "display_data"
    }
   ],
   "source": [
    "for i, r in enumerate(all_runs[-10:]):\n",
    "    metrics = r.get_metrics()\n",
    "    if metrics.get('Fibonacci'):\n",
    "        plt.plot(metrics['Fibonacci'], label=f\"Run {i+1}\")\n",
    "\n",
    "plt.legend()\n",
    "plt.show()"
   ]
  },
  {
   "cell_type": "markdown",
   "metadata": {},
   "source": [
    "### Tagging a run\n",
    "Often when you analyze the results of a run, you may need to tag that run with important personal or external information.  You can add a tag to a run using the ``run.tag()`` method.  AzureML supports valueless and valued tags."
   ]
  },
  {
   "cell_type": "code",
   "execution_count": 30,
   "metadata": {},
   "outputs": [
    {
     "data": {
      "text/plain": [
       "{'My Favorite Run': None, 'Competition Rank': '1'}"
      ]
     },
     "execution_count": 30,
     "metadata": {},
     "output_type": "execute_result"
    }
   ],
   "source": [
    "fetched_run.tag(\"My Favorite Run\")\n",
    "fetched_run.tag(\"Competition Rank\", \"1\")\n",
    "\n",
    "fetched_run.get_tags()"
   ]
  },
  {
   "cell_type": "code",
   "execution_count": null,
   "metadata": {},
   "outputs": [],
   "source": []
  }
 ],
 "metadata": {
  "authors": [
   {
    "name": "roastala"
   }
  ],
  "kernelspec": {
   "display_name": "azureml_py36_automl",
   "language": "python",
   "name": "conda-env-azureml_py36_automl-py"
  },
  "language_info": {
   "codemirror_mode": {
    "name": "ipython",
    "version": 3
   },
   "file_extension": ".py",
   "mimetype": "text/x-python",
   "name": "python",
   "nbconvert_exporter": "python",
   "pygments_lexer": "ipython3",
   "version": "3.6.9"
  }
 },
 "nbformat": 4,
 "nbformat_minor": 2
}
